{
 "cells": [
  {
   "cell_type": "markdown",
   "metadata": {},
   "source": [
    "# XPaths and Selectors\n",
    "\n",
    "> Leverage XPath syntax to explore scrapy selectors. Both of these concepts will move you towards being able to scrape an HTML document. This is the Summary of lecture \"Web Scraping in Python\", via datacamp.\n",
    "\n",
    "- toc: true \n",
    "- badges: true\n",
    "- comments: true\n",
    "- author: Chanseok Kang\n",
    "- categories: [Python, Datacamp]\n",
    "- image: "
   ]
  },
  {
   "cell_type": "code",
   "execution_count": 2,
   "metadata": {},
   "outputs": [],
   "source": [
    "from scrapy import Selector"
   ]
  },
  {
   "cell_type": "markdown",
   "metadata": {},
   "source": [
    "## XPathology\n",
    "- Slashes and Brackets\n",
    "    - Single forward slash `/` looks forward one generation\n",
    "    - Double forward slash `//` looks forward all future generations\n",
    "    - Square brackets `[]` help narrow in on specific elements"
   ]
  },
  {
   "cell_type": "markdown",
   "metadata": {},
   "source": [
    "## Off the Beaten XPath\n"
   ]
  },
  {
   "cell_type": "markdown",
   "metadata": {},
   "source": [
    "## Selector Objects\n"
   ]
  },
  {
   "cell_type": "markdown",
   "metadata": {},
   "source": [
    "### XPath Chaining\n",
    "`Selector` and `SelectorList` objects allow for chaining when using the `xpath` method. What this means is that you can apply the `xpath` method over once you've already applied it. For example, if sel is the name of our Selector, then\n",
    "```\n",
    "sel.xpath('/html/body/div[2]')\n",
    "```\n",
    "is the same as\n",
    "```\n",
    "sel.xpath('/html').xpath('./body/div[2]')\n",
    "```\n",
    "or is the same as\n",
    "```\n",
    "sel.xpath('/html').xpath('./body').xpath('./div[2]')\n",
    "```\n",
    "The only catch is that you need to \"glue together\" the XPath pieces by using a period at the start of each subsequent XPath string (notice the periods we added to the XPath strings in our examples)."
   ]
  },
  {
   "cell_type": "code",
   "execution_count": 6,
   "metadata": {},
   "outputs": [],
   "source": [
    "html = '''\n",
    "<html>\n",
    "    <body>\n",
    "        <div>HELLO</div>\n",
    "        <div>\n",
    "            <p>GOODBYE</p>\n",
    "        </div>\n",
    "        <div>\n",
    "            <span>\n",
    "                <p>NOPE</p>\n",
    "                <p>ALMOST</p>\n",
    "                <p>YOU GOT IT!</p>\n",
    "            </span>\n",
    "        </div>\n",
    "    </body>\n",
    "</html>\n",
    "'''\n",
    "\n",
    "sel = Selector(text=html)"
   ]
  },
  {
   "cell_type": "code",
   "execution_count": 11,
   "metadata": {},
   "outputs": [
    {
     "data": {
      "text/plain": [
       "[<Selector xpath='./span/p[3]' data='<p>YOU GOT IT!</p>'>]"
      ]
     },
     "execution_count": 11,
     "metadata": {},
     "output_type": "execute_result"
    }
   ],
   "source": [
    "# Chain together xpath methods to select desired p element\n",
    "sel.xpath('//div').xpath('./span/p[3]')"
   ]
  },
  {
   "cell_type": "markdown",
   "metadata": {},
   "source": [
    "### Divvy Up This Exercise\n",
    "You will use this `html` variable as the HTML document to set up a `Selector` object with, and create a `SelectorList` which selects all `div` elements; then, you will check your understanding of what happens within the `SelectorList`."
   ]
  },
  {
   "cell_type": "code",
   "execution_count": 12,
   "metadata": {},
   "outputs": [],
   "source": [
    "html = '''\n",
    "<html>\n",
    "    <body>\n",
    "        <div>Div 1: <p>paragraph 1</p></div>\n",
    "        <div>Div 2: <p>paragraph 2</p> <p>paragraph 3</p> </div>\n",
    "        <div>Div 3: <p>paragraph 4</p> <p>paragraph 5</p> <p>paragraph 6</p></div>\n",
    "        <div>Div 4: <p>paragraph 7</p></div>\n",
    "        <div>Div 5: <p>paragraph 8</p></div>\n",
    "    </body>\n",
    "</html>\n",
    "'''"
   ]
  },
  {
   "cell_type": "code",
   "execution_count": 15,
   "metadata": {},
   "outputs": [
    {
     "data": {
      "text/plain": [
       "[<Selector xpath='//div' data='<div>Div 1: <p>paragraph 1</p></div>'>,\n",
       " <Selector xpath='//div' data='<div>Div 2: <p>paragraph 2</p> <p>par...'>,\n",
       " <Selector xpath='//div' data='<div>Div 3: <p>paragraph 4</p> <p>par...'>,\n",
       " <Selector xpath='//div' data='<div>Div 4: <p>paragraph 7</p></div>'>,\n",
       " <Selector xpath='//div' data='<div>Div 5: <p>paragraph 8</p></div>'>]"
      ]
     },
     "execution_count": 15,
     "metadata": {},
     "output_type": "execute_result"
    }
   ],
   "source": [
    "# Create a Selector selecting html as the HTML document\n",
    "sel = Selector(text=html)\n",
    "\n",
    "# Create a SelectorList of all div elements in the HTML document\n",
    "divs = sel.xpath('//div')\n",
    "divs"
   ]
  },
  {
   "cell_type": "markdown",
   "metadata": {},
   "source": [
    "## The Source of the Source\n"
   ]
  },
  {
   "cell_type": "markdown",
   "metadata": {},
   "source": [
    "### Requesting a Selector\n",
    "Your task is to create a Selector object sel using the HTML source code stored in html."
   ]
  },
  {
   "cell_type": "code",
   "execution_count": 16,
   "metadata": {},
   "outputs": [
    {
     "name": "stdout",
     "output_type": "stream",
     "text": [
      "There are 1020 elements in the HTML document.\n",
      "You have found:  1020\n"
     ]
    }
   ],
   "source": [
    "import requests\n",
    "\n",
    "url = 'https://assets.datacamp.com/production/repositories/2560/datasets/19a0a26daa8d9db1d920b5d5607c19d6d8094b3b/all_short'\n",
    "\n",
    "# Create the string html containing the HTML source\n",
    "html = requests.get(url).content\n",
    "\n",
    "# Create the Selector object sel from html\n",
    "sel = Selector(text=html)\n",
    "\n",
    "# Print out the number of elements in the HTML document\n",
    "print(\"There are 1020 elements in the HTML document.\")\n",
    "print(\"You have found: \", len(sel.xpath('//*')))"
   ]
  }
 ],
 "metadata": {
  "kernelspec": {
   "display_name": "Python 3",
   "language": "python",
   "name": "python3"
  },
  "language_info": {
   "codemirror_mode": {
    "name": "ipython",
    "version": 3
   },
   "file_extension": ".py",
   "mimetype": "text/x-python",
   "name": "python",
   "nbconvert_exporter": "python",
   "pygments_lexer": "ipython3",
   "version": "3.7.6"
  }
 },
 "nbformat": 4,
 "nbformat_minor": 4
}
