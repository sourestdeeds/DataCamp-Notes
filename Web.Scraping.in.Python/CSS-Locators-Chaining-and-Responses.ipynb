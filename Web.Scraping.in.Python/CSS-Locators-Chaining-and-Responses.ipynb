{
 "cells": [
  {
   "cell_type": "markdown",
   "metadata": {},
   "source": [
    "# CSS Locators, Chaining, and Responses\n",
    "\n",
    "> Learn CSS Locator syntax and begin playing with the idea of chaining together CSS Locators with XPath. We also introduce Response objects, which behave like Selectors but give us extra tools to mobilize our scraping efforts across multiple websites. This is the Summary of lecture \"Web Scraping in Python\", via datacamp.\n",
    "\n",
    "- toc: true \n",
    "- badges: true\n",
    "- comments: true\n",
    "- author: Chanseok Kang\n",
    "- categories: [Python, Datacamp]\n",
    "- image: "
   ]
  },
  {
   "cell_type": "code",
   "execution_count": 1,
   "metadata": {},
   "outputs": [],
   "source": [
    "from scrapy import Selector"
   ]
  },
  {
   "cell_type": "markdown",
   "metadata": {},
   "source": [
    "## From XPath to CSS\n",
    "- Rosetta CSStone\n",
    "    - `/` replace by `>` (except first character)\n",
    "        - XPath: `/html/body/div`\n",
    "        - CSS Locator: `html > body > div`\n",
    "    - `//` replaced by a blank space (except first character)\n",
    "        - XPath: `//div/span//p`\n",
    "        - CSS Locator: `div > span p`\n",
    "    - `[N]` replaced by `:nth-of-type(N)`\n",
    "        - XPath: `//div/p[2]`\n",
    "        - CSS Locator: `div > p:nth-of-type(2)`\n",
    "- Attributes in CSS\n",
    "    - To find an element by class, use a period `.`\n",
    "    - To find an element by id, use a pound sign `#`"
   ]
  },
  {
   "cell_type": "markdown",
   "metadata": {},
   "source": [
    "### The (X)Path to CSS Locators\n",
    "Many people prefer using CSS Locator notation to XPath notation. As we will see later, it often makes attribute selection very easy. To help get you more comfortable going back and forth between XPath and CSS Locator strings, we give you a chance in this exercise to do some direct \"translation\" between the two."
   ]
  },
  {
   "cell_type": "code",
   "execution_count": 2,
   "metadata": {},
   "outputs": [],
   "source": [
    "# Create the XPath string equivalent to the CSS Locator\n",
    "xpath = '/html/body/span[1]//a'\n",
    "\n",
    "# Create the CSS Locator string equivalent to the XPath\n",
    "css_locator = 'html > body > span:nth-of-type(1) a'\n",
    "\n",
    "# Create the XPath string equivalent to the CSS Locator\n",
    "xpath = '//div[@id=\"uid\"]/span//h4'\n",
    "\n",
    "# Create the CSS Locator string equivalent to the XPath\n",
    "css_locator = 'div#uid > span h4'"
   ]
  },
  {
   "cell_type": "markdown",
   "metadata": {},
   "source": [
    "### Get an \"a\" in this Course\n",
    "We have loaded the HTML from a secret website which you will use to set up a `Selector` object and the function `how_many_elements()`. When passing this function a CSS Locator string, it will print out the number of elements that the CSS Locator you wrote has selected.\n",
    "\n",
    "In the second part of this problem, we want you to create a CSS Locator string which will select a certain collection of elements as described here: Select the hyperlink (a element) children of all `div` elements belonging to the class `\"course-block\"` (that is, any `div` element with a class attribute such that `\"course-block\"` is one of the classes assigned). The number of such elements is 11, so you can check your solution with `how_many_elements` if you choose."
   ]
  },
  {
   "cell_type": "code",
   "execution_count": 13,
   "metadata": {},
   "outputs": [],
   "source": [
    "def how_many_elements( css ):\n",
    "    sel = Selector( text = data )\n",
    "    print( len(sel.css( css )) )"
   ]
  },
  {
   "cell_type": "code",
   "execution_count": 14,
   "metadata": {},
   "outputs": [],
   "source": [
    "with open('./dataset/all.html', 'r') as file:\n",
    "    data = file.read().replace('\\n', '')"
   ]
  },
  {
   "cell_type": "code",
   "execution_count": 21,
   "metadata": {},
   "outputs": [
    {
     "name": "stdout",
     "output_type": "stream",
     "text": [
      "11\n"
     ]
    }
   ],
   "source": [
    "# Create a selector from the html (of a secret website)\n",
    "sel = Selector(text=data)\n",
    "\n",
    "# Fill in the blank\n",
    "css_locator = ' div.course-block > a'\n",
    "\n",
    "# Print the number of selected elements\n",
    "how_many_elements(css_locator)"
   ]
  },
  {
   "cell_type": "markdown",
   "metadata": {},
   "source": [
    "### The CSS Wildcard\n",
    "You can use the wildcard `*` in CSS Locators too! In fact, we can use it in a similar way, when we want to ignore the tag type. For example:\n",
    "\n",
    "- The CSS Locator string `'*'` selects all elements in the HTML document.\n",
    "- The CSS Locator string `'*.class-1'` selects all elements which belong to `class-1`, but this is unnecessary since the string `'.class-1'` will also do the same job.\n",
    "- The CSS Locator string `'*#uid'` selects the element with `id` attribute equal to `uid`, but this is unnecessary since the string `'#uid'` will also do the same job.\n",
    "\n",
    "In this exercise, we want you to work by analogy with the wildcard character you know from XPath notation to discover how to select all the children of a certain element in CSS Locator notation."
   ]
  },
  {
   "cell_type": "code",
   "execution_count": 22,
   "metadata": {},
   "outputs": [
    {
     "name": "stdout",
     "output_type": "stream",
     "text": [
      "0\n"
     ]
    }
   ],
   "source": [
    "# Create the CSS Locator to all children of the element whose id is uid\n",
    "css_locator = '#uid > *'\n",
    "\n",
    "# Print the number of selected elements\n",
    "how_many_elements(css_locator)"
   ]
  },
  {
   "cell_type": "markdown",
   "metadata": {},
   "source": [
    "## CSS Attributes and Text Selection\n"
   ]
  },
  {
   "cell_type": "markdown",
   "metadata": {},
   "source": [
    "### You've been `href`ed\n",
    "In a previous exercise, you created a CSS Locator string to select the hyperlink (`a` element) children of all `div` elements belonging to the class `\"course-block\"`. Here we have created a `SelectorList` called `course_as` having selected those hyperlink children.\n",
    "\n",
    "Now, we want you to fill in the blank below to extract the `href` attribute values from these elements. This is another example of chaining, as we've seen in a previous exercise.\n",
    "\n",
    "The point here is that we can chain together calls to the methods `css` and `xpath`, and combine them! We help nudge you in the correct direction by giving you the solution if we chain with another call to the `css` method."
   ]
  },
  {
   "cell_type": "code",
   "execution_count": 23,
   "metadata": {},
   "outputs": [],
   "source": [
    "# Select all hyperlinks of div elements belonging to class \"course-block\"\n",
    "course_as = sel.css('div.course-block > a')\n",
    "\n",
    "# Selecting all href attributes chaining with css\n",
    "hrefs_from_css = course_as.css('::attr(href)')\n",
    "\n",
    "# Selecting all href attributes chaining with xpath\n",
    "hrefs_from_xpath = course_as.xpath('./@href')"
   ]
  },
  {
   "cell_type": "markdown",
   "metadata": {},
   "source": [
    "### Top Level Text\n",
    "This exercise will have you write an XPath and CSS Locator string to direct to the text of a specific paragraph `p` element. The `p` element in the HTML is uniquely defined by its id attribute, which is `\"p3\"`. With this small piece of information, you should be able to create the desired strings; however, we have preloaded the variable html with a string containing the HTML in which this link belongs, if you want to peruse it.\n",
    "\n",
    "In this exercise, you will only be selecting the text within the element, which does not include the text in future generations of the element."
   ]
  },
  {
   "cell_type": "code",
   "execution_count": 33,
   "metadata": {},
   "outputs": [],
   "source": [
    "def our_xpath( xpath ):\n",
    "    xextr = sel.xpath( xpath ).extract()\n",
    "    return xextr\n",
    "\n",
    "def our_css( css ):\n",
    "    cextr = sel.css( css ).extract()\n",
    "    return cextr\n",
    "\n",
    "def print_results( xpath, css_locator ):\n",
    "    print( \"Your XPath extracts to following:\")\n",
    "    print( our_xpath(xpath) )\n",
    "    print(\"_________________\\n\")\n",
    "    print( \"Your CSS Locator extracts the following:\")\n",
    "    print( our_css(css_locator) )\n",
    "    return None"
   ]
  },
  {
   "cell_type": "code",
   "execution_count": 34,
   "metadata": {},
   "outputs": [
    {
     "name": "stdout",
     "output_type": "stream",
     "text": [
      "Your XPath extracts to following:\n",
      "['Here is the ', ' link you want!']\n",
      "_________________\n",
      "\n",
      "Your CSS Locator extracts the following:\n",
      "['Here is the ', ' link you want!']\n"
     ]
    }
   ],
   "source": [
    "with open('./dataset/text_extract.html', 'r') as file:\n",
    "    html = file.read().replace('\\n', '')\n",
    "\n",
    "sel = Selector(text=html)\n",
    "\n",
    "# Create an XPath string to the desired text.\n",
    "xpath = '//p[@id=\"p3\"]/text()'\n",
    "\n",
    "# Create a CSS Locator string to the desired text\n",
    "css_locator = 'p#p3::text'\n",
    "\n",
    "# Print the text from our selection\n",
    "print_results(xpath, css_locator)"
   ]
  },
  {
   "cell_type": "markdown",
   "metadata": {},
   "source": [
    "### All Level Text\n",
    "This exercise is similar to the previous, but differs in that you will be selecting text from multiple generations of a given element.\n",
    "\n",
    "You will write an XPath and CSS Locator strings to direct to the text of a specific paragraph `p` element. The `p` element in the HTML is uniquely defined by its `id` attribute, which is `\"p3\"`. With this small piece of information, you should be able to create the desired strings; however, we have preloaded the variable html with a string containing the HTML in which this link belongs, if you want to peruse it.\n",
    "\n",
    "In this exercise, you will only be selecting the text within the element which includes all text within the future generations."
   ]
  },
  {
   "cell_type": "code",
   "execution_count": 35,
   "metadata": {},
   "outputs": [
    {
     "name": "stdout",
     "output_type": "stream",
     "text": [
      "Your XPath extracts to following:\n",
      "['Here is the ', 'DataCamp', ' link you want!']\n",
      "_________________\n",
      "\n",
      "Your CSS Locator extracts the following:\n",
      "['Here is the ', 'DataCamp', ' link you want!']\n"
     ]
    }
   ],
   "source": [
    "# Create an XPath string to the desired text.\n",
    "xpath = '//p[@id=\"p3\"]//text()'\n",
    "\n",
    "# Create an CSS Locator string to the desired text\n",
    "css_locator = 'p#p3 ::text'\n",
    "\n",
    "# Print the text from our selections\n",
    "print_results(xpath, css_locator)"
   ]
  },
  {
   "cell_type": "markdown",
   "metadata": {},
   "source": [
    "### Respond Please!\n",
    "- Selector vs Response:\n",
    "    - The Response has all the tools we learned with Selectors:\n",
    "        - `xpath` and `css` methods followed by `extract` and `extract_first` methods.\n",
    "        - Response also keeps track of the url where the HTML code was loaded from.\n",
    "        - Response helps us move from one site to another, so that we can \"crawl\" the web while scraping."
   ]
  },
  {
   "cell_type": "markdown",
   "metadata": {},
   "source": [
    "### Reveal By Response\n",
    "Your job is to figure out the URL and the title of the website using the response variable. You learned how to find the URL in the last lesson. To find the website title, what you need to know is:\n",
    "\n",
    "- The title is the text from the `title` element\n",
    "- The `title` element is a child of the `head` element, which is a child of the `html` root element.\n",
    "\n",
    "> note: the `html` root element only has one child `head` element, and the `head` element only has one child `title` element."
   ]
  },
  {
   "cell_type": "code",
   "execution_count": 38,
   "metadata": {},
   "outputs": [],
   "source": [
    "def print_url_title( url, title ):\n",
    "    print( \"Here is what you found:\" )\n",
    "    print( \"\\t-URL: %s\" % url )\n",
    "    print( \"\\t-Title: %s\" % title )"
   ]
  },
  {
   "cell_type": "code",
   "execution_count": 76,
   "metadata": {},
   "outputs": [],
   "source": [
    "from scrapy.http.response.text import TextResponse\n",
    "\n",
    "response = TextResponse(url='https://www.datacamp.com/courses/all', encoding='utf-8')"
   ]
  },
  {
   "cell_type": "code",
   "execution_count": 77,
   "metadata": {},
   "outputs": [
    {
     "name": "stdout",
     "output_type": "stream",
     "text": [
      "Here is what you found:\n",
      "\t-URL: https://www.datacamp.com/courses/all\n",
      "\t-Title: None\n"
     ]
    }
   ],
   "source": [
    "# GEt the URL to the website loaded in response\n",
    "this_url = response.url\n",
    "\n",
    "# Get the title or the website loaded in response\n",
    "this_title = response.xpath('//title/text()').extract_first()\n",
    "\n",
    "# Print out our findings\n",
    "print_url_title(this_url, this_title)"
   ]
  },
  {
   "cell_type": "markdown",
   "metadata": {},
   "source": [
    "### Responding with Selectors\n",
    "Something that we should emphasize at this point about the relationship between a `Selector` and `Response` objects is that both objects return a `SelectorList` when using the `xpath` or `css` methods to direct to elements. In this exercise, we'll prove it to you, by having you find all hyperlink elements belonging to the `class course-block__link` (notice the double underscore!) and looking at the object that is produced when doing so.\n",
    "\n",
    "Recall that to find an element by class, you can use a period (`.`). For example, div.class-2 selects all div elements belonging to class-2.\n",
    "\n",
    "We have pre-loaded both a `Response` object named `response` and a Selector object named `sel` with the content from the same \"secret\" website. Once you complete the task of creating a CSS Locator, you will compare both the output from `response.css` and `selector.css` to see that they are effectively the same!"
   ]
  },
  {
   "cell_type": "code",
   "execution_count": null,
   "metadata": {},
   "outputs": [],
   "source": []
  }
 ],
 "metadata": {
  "kernelspec": {
   "display_name": "Python 3",
   "language": "python",
   "name": "python3"
  },
  "language_info": {
   "codemirror_mode": {
    "name": "ipython",
    "version": 3
   },
   "file_extension": ".py",
   "mimetype": "text/x-python",
   "name": "python",
   "nbconvert_exporter": "python",
   "pygments_lexer": "ipython3",
   "version": "3.7.6"
  }
 },
 "nbformat": 4,
 "nbformat_minor": 4
}
