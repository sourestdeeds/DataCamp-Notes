{
 "cells": [
  {
   "cell_type": "markdown",
   "metadata": {},
   "source": [
    "# Introduction to HTML\n",
    "\n",
    "> Learn the structure of HTML. We begin by explaining why web scraping can be a valuable addition to your data science toolbox and then delving into some basics of HTML. We end the chapter by giving a brief introduction on XPath notation, which is used to navigate the elements within HTML code. This is the Summary of lecture \"Web Scraping in Python\", via datacamp.\n",
    "\n",
    "- toc: true \n",
    "- badges: true\n",
    "- comments: true\n",
    "- author: Chanseok Kang\n",
    "- categories: [Python, Datacamp]\n",
    "- image: "
   ]
  },
  {
   "cell_type": "markdown",
   "metadata": {},
   "source": [
    "## Web Scraping Overview\n",
    "- Pipeline\n",
    "    - Setup\n",
    "        - Understand what we want to do\n",
    "        - Find sources to help us do it\n",
    "    - Acquisition\n",
    "        - Read in the raw data from online\n",
    "        - Format these data to be usable\n",
    "    - Processing\n",
    "        - Analyze\n",
    "        - Explore\n",
    "        - Learn\n",
    "        - Wrangling"
   ]
  },
  {
   "cell_type": "markdown",
   "metadata": {},
   "source": [
    "## HyperText Markup Language\n",
    "## Attributes\n",
    "- Why?\n",
    "    - Information within HTML tags can be valuable\n",
    "    - Extract link URLs\n",
    "    - Easier way to select elements\n",
    "\n"
   ]
  },
  {
   "cell_type": "markdown",
   "metadata": {},
   "source": [
    "## Crash Course in XPath\n",
    "- Simple XPath\n",
    "    - Single forward-slash `/` used to move forward one generation\n",
    "    - tag-names between slashes give direction to which elements\n",
    "    - Brackets `[]` after a tag name tell us which of the selected siblings to choose\n",
    "    - Double forward-slace `//` direct to all elements within the entire HTML code"
   ]
  }
 ],
 "metadata": {
  "kernelspec": {
   "display_name": "Python 3",
   "language": "python",
   "name": "python3"
  },
  "language_info": {
   "codemirror_mode": {
    "name": "ipython",
    "version": 3
   },
   "file_extension": ".py",
   "mimetype": "text/x-python",
   "name": "python",
   "nbconvert_exporter": "python",
   "pygments_lexer": "ipython3",
   "version": "3.7.6"
  }
 },
 "nbformat": 4,
 "nbformat_minor": 4
}
