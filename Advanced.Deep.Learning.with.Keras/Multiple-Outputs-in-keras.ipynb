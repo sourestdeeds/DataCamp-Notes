{
 "cells": [
  {
   "cell_type": "markdown",
   "metadata": {},
   "source": [
    "# Multiple Outputs in Keras\n",
    "> In this chapter, you will build neural networks with multiple outputs, which can be used to solve regression problems with multiple targets. You will also build a model that solves a regression problem and a classification problem simultaneously. This is the Summary of lecture \"Advanced Deep Learning with Keras\", via datacamp.\n",
    "\n",
    "- toc: true \n",
    "- badges: true\n",
    "- comments: true\n",
    "- author: Chanseok Kang\n",
    "- categories: [Python, Datacamp, Tensorflow-Keras, Deep_Learning]\n",
    "- image: "
   ]
  },
  {
   "cell_type": "code",
   "execution_count": 1,
   "metadata": {},
   "outputs": [],
   "source": [
    "import tensorflow as tf\n",
    "import numpy as np\n",
    "import pandas as pd\n",
    "import matplotlib.pyplot as plt\n",
    "\n",
    "plt.rcParams['figure.figsize'] = (8, 8)"
   ]
  },
  {
   "cell_type": "markdown",
   "metadata": {},
   "source": [
    "## Two-output models"
   ]
  },
  {
   "cell_type": "markdown",
   "metadata": {},
   "source": [
    "### Simple two-output model\n",
    "In this exercise, you will use the tournament data to build one model that makes two predictions: the scores of both teams in a given game. Your inputs will be the seed difference of the two teams, as well as the predicted score difference from the model you built in chapter 3.\n",
    "\n",
    "The output from your model will be the predicted score for team 1 as well as team 2. This is called \"multiple target regression\": one model making more than one prediction."
   ]
  },
  {
   "cell_type": "code",
   "execution_count": 9,
   "metadata": {},
   "outputs": [],
   "source": [
    "from tensorflow.keras.layers import Input, Dense\n",
    "from tensorflow.keras.models import Model\n",
    "\n",
    "# Define the input\n",
    "input_tensor = Input(shape=(2, ))\n",
    "\n",
    "# Define the output\n",
    "output_tensor = Dense(2)(input_tensor)\n",
    "\n",
    "# Create a model\n",
    "model = Model(input_tensor, output_tensor)\n",
    "\n",
    "# Compile the model\n",
    "model.compile(optimizer='adam', loss='mean_absolute_error')"
   ]
  },
  {
   "cell_type": "markdown",
   "metadata": {},
   "source": [
    "### Fit a model with two outputs\n",
    "Now that you've defined your 2-output model, fit it to the tournament data. I've split the data into `games_tourney_train` and `games_tourney_test`, so use the training set to fit for now.\n",
    "\n",
    "This model will use the pre-tournament seeds, as well as your pre-tournament predictions from the regular season model you built previously in this course.\n",
    "\n",
    "As a reminder, this model will predict the scores of both teams."
   ]
  },
  {
   "cell_type": "code",
   "execution_count": 10,
   "metadata": {},
   "outputs": [
    {
     "data": {
      "text/html": [
       "<div>\n",
       "<style scoped>\n",
       "    .dataframe tbody tr th:only-of-type {\n",
       "        vertical-align: middle;\n",
       "    }\n",
       "\n",
       "    .dataframe tbody tr th {\n",
       "        vertical-align: top;\n",
       "    }\n",
       "\n",
       "    .dataframe thead th {\n",
       "        text-align: right;\n",
       "    }\n",
       "</style>\n",
       "<table border=\"1\" class=\"dataframe\">\n",
       "  <thead>\n",
       "    <tr style=\"text-align: right;\">\n",
       "      <th></th>\n",
       "      <th>season</th>\n",
       "      <th>team_1</th>\n",
       "      <th>team_2</th>\n",
       "      <th>home</th>\n",
       "      <th>seed_diff</th>\n",
       "      <th>score_diff</th>\n",
       "      <th>score_1</th>\n",
       "      <th>score_2</th>\n",
       "      <th>won</th>\n",
       "    </tr>\n",
       "  </thead>\n",
       "  <tbody>\n",
       "    <tr>\n",
       "      <th>0</th>\n",
       "      <td>1985</td>\n",
       "      <td>288</td>\n",
       "      <td>73</td>\n",
       "      <td>0</td>\n",
       "      <td>-3</td>\n",
       "      <td>-9</td>\n",
       "      <td>41</td>\n",
       "      <td>50</td>\n",
       "      <td>0</td>\n",
       "    </tr>\n",
       "    <tr>\n",
       "      <th>1</th>\n",
       "      <td>1985</td>\n",
       "      <td>5929</td>\n",
       "      <td>73</td>\n",
       "      <td>0</td>\n",
       "      <td>4</td>\n",
       "      <td>6</td>\n",
       "      <td>61</td>\n",
       "      <td>55</td>\n",
       "      <td>1</td>\n",
       "    </tr>\n",
       "    <tr>\n",
       "      <th>2</th>\n",
       "      <td>1985</td>\n",
       "      <td>9884</td>\n",
       "      <td>73</td>\n",
       "      <td>0</td>\n",
       "      <td>5</td>\n",
       "      <td>-4</td>\n",
       "      <td>59</td>\n",
       "      <td>63</td>\n",
       "      <td>0</td>\n",
       "    </tr>\n",
       "    <tr>\n",
       "      <th>3</th>\n",
       "      <td>1985</td>\n",
       "      <td>73</td>\n",
       "      <td>288</td>\n",
       "      <td>0</td>\n",
       "      <td>3</td>\n",
       "      <td>9</td>\n",
       "      <td>50</td>\n",
       "      <td>41</td>\n",
       "      <td>1</td>\n",
       "    </tr>\n",
       "    <tr>\n",
       "      <th>4</th>\n",
       "      <td>1985</td>\n",
       "      <td>3920</td>\n",
       "      <td>410</td>\n",
       "      <td>0</td>\n",
       "      <td>1</td>\n",
       "      <td>-9</td>\n",
       "      <td>54</td>\n",
       "      <td>63</td>\n",
       "      <td>0</td>\n",
       "    </tr>\n",
       "  </tbody>\n",
       "</table>\n",
       "</div>"
      ],
      "text/plain": [
       "   season  team_1  team_2  home  seed_diff  score_diff  score_1  score_2  won\n",
       "0    1985     288      73     0         -3          -9       41       50    0\n",
       "1    1985    5929      73     0          4           6       61       55    1\n",
       "2    1985    9884      73     0          5          -4       59       63    0\n",
       "3    1985      73     288     0          3           9       50       41    1\n",
       "4    1985    3920     410     0          1          -9       54       63    0"
      ]
     },
     "execution_count": 10,
     "metadata": {},
     "output_type": "execute_result"
    }
   ],
   "source": [
    "games_tourney = pd.read_csv('./dataset/games_tourney.csv')\n",
    "games_tourney.head()"
   ]
  },
  {
   "cell_type": "code",
   "execution_count": 11,
   "metadata": {},
   "outputs": [
    {
     "data": {
      "text/html": [
       "<div>\n",
       "<style scoped>\n",
       "    .dataframe tbody tr th:only-of-type {\n",
       "        vertical-align: middle;\n",
       "    }\n",
       "\n",
       "    .dataframe tbody tr th {\n",
       "        vertical-align: top;\n",
       "    }\n",
       "\n",
       "    .dataframe thead th {\n",
       "        text-align: right;\n",
       "    }\n",
       "</style>\n",
       "<table border=\"1\" class=\"dataframe\">\n",
       "  <thead>\n",
       "    <tr style=\"text-align: right;\">\n",
       "      <th></th>\n",
       "      <th>season</th>\n",
       "      <th>team_1</th>\n",
       "      <th>team_2</th>\n",
       "      <th>home</th>\n",
       "      <th>score_diff</th>\n",
       "      <th>score_1</th>\n",
       "      <th>score_2</th>\n",
       "      <th>won</th>\n",
       "    </tr>\n",
       "  </thead>\n",
       "  <tbody>\n",
       "    <tr>\n",
       "      <th>0</th>\n",
       "      <td>1985</td>\n",
       "      <td>3745</td>\n",
       "      <td>6664</td>\n",
       "      <td>0</td>\n",
       "      <td>17</td>\n",
       "      <td>81</td>\n",
       "      <td>64</td>\n",
       "      <td>1</td>\n",
       "    </tr>\n",
       "    <tr>\n",
       "      <th>1</th>\n",
       "      <td>1985</td>\n",
       "      <td>126</td>\n",
       "      <td>7493</td>\n",
       "      <td>1</td>\n",
       "      <td>7</td>\n",
       "      <td>77</td>\n",
       "      <td>70</td>\n",
       "      <td>1</td>\n",
       "    </tr>\n",
       "    <tr>\n",
       "      <th>2</th>\n",
       "      <td>1985</td>\n",
       "      <td>288</td>\n",
       "      <td>3593</td>\n",
       "      <td>1</td>\n",
       "      <td>7</td>\n",
       "      <td>63</td>\n",
       "      <td>56</td>\n",
       "      <td>1</td>\n",
       "    </tr>\n",
       "    <tr>\n",
       "      <th>3</th>\n",
       "      <td>1985</td>\n",
       "      <td>1846</td>\n",
       "      <td>9881</td>\n",
       "      <td>1</td>\n",
       "      <td>16</td>\n",
       "      <td>70</td>\n",
       "      <td>54</td>\n",
       "      <td>1</td>\n",
       "    </tr>\n",
       "    <tr>\n",
       "      <th>4</th>\n",
       "      <td>1985</td>\n",
       "      <td>2675</td>\n",
       "      <td>10298</td>\n",
       "      <td>1</td>\n",
       "      <td>12</td>\n",
       "      <td>86</td>\n",
       "      <td>74</td>\n",
       "      <td>1</td>\n",
       "    </tr>\n",
       "  </tbody>\n",
       "</table>\n",
       "</div>"
      ],
      "text/plain": [
       "   season  team_1  team_2  home  score_diff  score_1  score_2  won\n",
       "0    1985    3745    6664     0          17       81       64    1\n",
       "1    1985     126    7493     1           7       77       70    1\n",
       "2    1985     288    3593     1           7       63       56    1\n",
       "3    1985    1846    9881     1          16       70       54    1\n",
       "4    1985    2675   10298     1          12       86       74    1"
      ]
     },
     "execution_count": 11,
     "metadata": {},
     "output_type": "execute_result"
    }
   ],
   "source": [
    "games_season = pd.read_csv('./dataset/games_season.csv')\n",
    "games_season.head()"
   ]
  },
  {
   "cell_type": "code",
   "execution_count": 12,
   "metadata": {},
   "outputs": [
    {
     "name": "stdout",
     "output_type": "stream",
     "text": [
      "138/138 [==============================] - 0s 2ms/step - loss: 12.2743 - val_loss: 11.6033\n"
     ]
    }
   ],
   "source": [
    "from tensorflow.keras.layers import Embedding, Input, Flatten, Concatenate, Dense\n",
    "from tensorflow.keras.models import Model\n",
    "\n",
    "# Count the unique number of teams\n",
    "n_teams = np.unique(games_season['team_1']).shape[0]\n",
    "\n",
    "# Create an embedding layer\n",
    "team_lookup = Embedding(input_dim=n_teams,\n",
    "                        output_dim=1,\n",
    "                        input_length=1,\n",
    "                        name='Team-Strength')\n",
    "\n",
    "# Create an input layer for the team ID\n",
    "teamid_in = Input(shape=(1, ))\n",
    "\n",
    "# Lookup the input in the team strength embedding layer\n",
    "strength_lookup = team_lookup(teamid_in)\n",
    "\n",
    "# Flatten the output\n",
    "strength_lookup_flat = Flatten()(strength_lookup)\n",
    "\n",
    "# Combine the operations into a single, re-usable model\n",
    "team_strength_model = Model(teamid_in, strength_lookup_flat, name='Team-Strength-Model')\n",
    "\n",
    "# Create an Input for each team\n",
    "team_in_1 = Input(shape=(1, ), name='Team-1-In')\n",
    "team_in_2 = Input(shape=(1, ), name='Team-2-In')\n",
    "\n",
    "# Create an input for home vs away\n",
    "home_in = Input(shape=(1, ), name='Home-In')\n",
    "\n",
    "# Lookup the team inputs in the team strength model\n",
    "team_1_strength = team_strength_model(team_in_1)\n",
    "team_2_strength = team_strength_model(team_in_2)\n",
    "\n",
    "# Combine the team strengths with the home input using a Concatenate layer, \n",
    "# then add a Dense layer\n",
    "\n",
    "out = Concatenate()([team_1_strength, team_2_strength, home_in])\n",
    "out = Dense(1)(out)\n",
    "\n",
    "# Make a model\n",
    "p_model = Model([team_in_1, team_in_2, home_in], out)\n",
    "\n",
    "# Compile the model\n",
    "p_model.compile(optimizer='adam', loss='mean_absolute_error')\n",
    "\n",
    "# Fit the model to the games_season dataset\n",
    "p_model.fit([games_season['team_1'], games_season['team_2'], games_season['home']],\n",
    "          games_season['score_diff'],\n",
    "          epochs=1, verbose=True, validation_split=0.1, batch_size=2048)\n",
    "\n",
    "games_tourney['pred'] = p_model.predict([games_tourney['team_1'], \n",
    "                                       games_tourney['team_2'], \n",
    "                                       games_tourney['home']])"
   ]
  },
  {
   "cell_type": "code",
   "execution_count": 13,
   "metadata": {},
   "outputs": [],
   "source": [
    "games_tourney_train = games_tourney[games_tourney['season'] <= 2010]\n",
    "games_tourney_test = games_tourney[games_tourney['season'] > 2010]"
   ]
  },
  {
   "cell_type": "code",
   "execution_count": 27,
   "metadata": {},
   "outputs": [],
   "source": [
    "# Fit the model\n",
    "model.fit(games_tourney_train[['seed_diff', 'pred']], \n",
    "          games_tourney_train[['score_1', 'score_2']],\n",
    "          verbose=False,\n",
    "          epochs=10000,\n",
    "          batch_size=256);"
   ]
  },
  {
   "cell_type": "markdown",
   "metadata": {},
   "source": [
    "### Inspect the model (I)\n",
    "Now that you've fit your model, let's take a look at it. You can use the `.get_weights()` method to inspect your model's weights.\n",
    "\n",
    "The input layer will have 4 weights: 2 for each input times 2 for each output.\n",
    "\n",
    "The output layer will have 2 weights, one for each output."
   ]
  },
  {
   "cell_type": "code",
   "execution_count": 28,
   "metadata": {},
   "outputs": [
    {
     "data": {
      "text/plain": [
       "[array([[ 0.5722339, -0.6436782],\n",
       "        [34.635384 , 21.279465 ]], dtype=float32),\n",
       " array([65.20026, 67.36517], dtype=float32)]"
      ]
     },
     "execution_count": 28,
     "metadata": {},
     "output_type": "execute_result"
    }
   ],
   "source": [
    "# Print the model's weight\n",
    "model.get_weights()"
   ]
  },
  {
   "cell_type": "code",
   "execution_count": 29,
   "metadata": {},
   "outputs": [
    {
     "data": {
      "text/plain": [
       "season        1997.548544\n",
       "team_1        5560.890777\n",
       "team_2        5560.890777\n",
       "home             0.000000\n",
       "seed_diff        0.000000\n",
       "score_diff       0.000000\n",
       "score_1         71.786711\n",
       "score_2         71.786711\n",
       "won              0.500000\n",
       "pred             0.168156\n",
       "dtype: float64"
      ]
     },
     "execution_count": 29,
     "metadata": {},
     "output_type": "execute_result"
    }
   ],
   "source": [
    "# Print the column means of the training data\n",
    "games_tourney_train.mean()"
   ]
  },
  {
   "cell_type": "markdown",
   "metadata": {},
   "source": [
    "### Evaluate the model\n",
    "Now that you've fit your model and inspected it's weights to make sure it makes sense, evaluate it on the tournament test set to see how well it performs on new data.\n",
    "\n"
   ]
  },
  {
   "cell_type": "code",
   "execution_count": 30,
   "metadata": {},
   "outputs": [
    {
     "name": "stdout",
     "output_type": "stream",
     "text": [
      "8.908275604248047\n"
     ]
    }
   ],
   "source": [
    "# Evaluate the model on the tournament test data\n",
    "print(model.evaluate(games_tourney_test[['seed_diff', 'pred']], \n",
    "                     games_tourney_test[['score_1', 'score_2']],\n",
    "                     verbose=False))"
   ]
  },
  {
   "cell_type": "markdown",
   "metadata": {},
   "source": [
    "## Single model for classification and regression\n"
   ]
  },
  {
   "cell_type": "markdown",
   "metadata": {},
   "source": [
    "### Classification and regression in one model\n",
    "Now you will create a different kind of 2-output model. This time, you will predict the score difference, instead of both team's scores and then you will predict the probability that team 1 won the game. This is a pretty cool model: it is going to do both classification and regression!\n",
    "\n",
    "In this model, turn off the bias, or intercept for each layer. Your inputs (seed difference and predicted score difference) have a mean of very close to zero, and your outputs both have means that are close to zero, so your model shouldn't need the bias term to fit the data well."
   ]
  },
  {
   "cell_type": "code",
   "execution_count": 31,
   "metadata": {},
   "outputs": [],
   "source": [
    "# Create an input layer with 2 columns\n",
    "input_tensor = Input(shape=(2, ))\n",
    "\n",
    "# Create the first output\n",
    "output_tensor_1 = Dense(1, activation='linear', use_bias=False)(input_tensor)\n",
    "\n",
    "# Create the second output(use the first output as input here)\n",
    "output_tensor_2 = Dense(1, activation='sigmoid', use_bias=False)(output_tensor_1)\n",
    "\n",
    "# Create a model with 2 outputs\n",
    "model = Model(input_tensor, [output_tensor_1, output_tensor_2])"
   ]
  },
  {
   "cell_type": "markdown",
   "metadata": {},
   "source": [
    "### Compile and fit the model\n",
    "Now that you have a model with 2 outputs, compile it with 2 loss functions: mean absolute error (MAE) for `'score_diff'` and binary cross-entropy (also known as logloss) for `'won'`. Then fit the model with `'seed_diff'` and `'pred'` as inputs. For outputs, predict `'score_diff'` and `'won'`.\n",
    "\n",
    "This model can use the scores of the games to make sure that close games (small score diff) have lower win probabilities than blowouts (large score diff).\n",
    "\n",
    "The regression problem is easier than the classification problem because MAE punishes the model less for a loss due to random chance. For example, if `score_diff` is -1 and `won` is 0, that means `team_1` had some bad luck and lost by a single free throw. The data for the easy problem helps the model find a solution to the hard problem."
   ]
  },
  {
   "cell_type": "code",
   "execution_count": 38,
   "metadata": {},
   "outputs": [
    {
     "name": "stdout",
     "output_type": "stream",
     "text": [
      "Epoch 1/20\n",
      "1/1 [==============================] - 0s 717us/step - loss: 14.2469 - dense_4_loss: 13.4993 - dense_5_loss: 0.7476\n",
      "Epoch 2/20\n",
      "1/1 [==============================] - 0s 637us/step - loss: 14.1864 - dense_4_loss: 13.4539 - dense_5_loss: 0.7325\n",
      "Epoch 3/20\n",
      "1/1 [==============================] - 0s 542us/step - loss: 14.1266 - dense_4_loss: 13.4088 - dense_5_loss: 0.7179\n",
      "Epoch 4/20\n",
      "1/1 [==============================] - 0s 533us/step - loss: 14.0673 - dense_4_loss: 13.3636 - dense_5_loss: 0.7036\n",
      "Epoch 5/20\n",
      "1/1 [==============================] - 0s 565us/step - loss: 14.0088 - dense_4_loss: 13.3189 - dense_5_loss: 0.6899\n",
      "Epoch 6/20\n",
      "1/1 [==============================] - 0s 1ms/step - loss: 13.9510 - dense_4_loss: 13.2743 - dense_5_loss: 0.6767\n",
      "Epoch 7/20\n",
      "1/1 [==============================] - 0s 609us/step - loss: 13.8937 - dense_4_loss: 13.2297 - dense_5_loss: 0.6640\n",
      "Epoch 8/20\n",
      "1/1 [==============================] - 0s 567us/step - loss: 13.8371 - dense_4_loss: 13.1853 - dense_5_loss: 0.6518\n",
      "Epoch 9/20\n",
      "1/1 [==============================] - 0s 556us/step - loss: 13.7814 - dense_4_loss: 13.1411 - dense_5_loss: 0.6402\n",
      "Epoch 10/20\n",
      "1/1 [==============================] - 0s 1ms/step - loss: 13.7264 - dense_4_loss: 13.0972 - dense_5_loss: 0.6292\n",
      "Epoch 11/20\n",
      "1/1 [==============================] - 0s 732us/step - loss: 13.6721 - dense_4_loss: 13.0534 - dense_5_loss: 0.6187\n",
      "Epoch 12/20\n",
      "1/1 [==============================] - 0s 659us/step - loss: 13.6186 - dense_4_loss: 13.0097 - dense_5_loss: 0.6089\n",
      "Epoch 13/20\n",
      "1/1 [==============================] - 0s 529us/step - loss: 13.5659 - dense_4_loss: 12.9662 - dense_5_loss: 0.5997\n",
      "Epoch 14/20\n",
      "1/1 [==============================] - 0s 672us/step - loss: 13.5143 - dense_4_loss: 12.9232 - dense_5_loss: 0.5912\n",
      "Epoch 15/20\n",
      "1/1 [==============================] - 0s 648us/step - loss: 13.4638 - dense_4_loss: 12.8806 - dense_5_loss: 0.5833\n",
      "Epoch 16/20\n",
      "1/1 [==============================] - 0s 634us/step - loss: 13.4143 - dense_4_loss: 12.8383 - dense_5_loss: 0.5761\n",
      "Epoch 17/20\n",
      "1/1 [==============================] - 0s 574us/step - loss: 13.3659 - dense_4_loss: 12.7963 - dense_5_loss: 0.5695\n",
      "Epoch 18/20\n",
      "1/1 [==============================] - 0s 543us/step - loss: 13.3188 - dense_4_loss: 12.7551 - dense_5_loss: 0.5637\n",
      "Epoch 19/20\n",
      "1/1 [==============================] - 0s 661us/step - loss: 13.2728 - dense_4_loss: 12.7141 - dense_5_loss: 0.5587\n",
      "Epoch 20/20\n",
      "1/1 [==============================] - 0s 681us/step - loss: 13.2278 - dense_4_loss: 12.6735 - dense_5_loss: 0.5543\n"
     ]
    }
   ],
   "source": [
    "from tensorflow.keras.optimizers import Adam\n",
    "\n",
    "# Compile the model with 2 losses and the Adam optimizer with a higher learning rate\n",
    "model.compile(loss=['mean_absolute_error', 'binary_crossentropy'], optimizer=Adam(lr=0.01))\n",
    "\n",
    "# Fit the model to the tournament training data, with 2 inputs and 2 outputs\n",
    "model.fit(games_tourney_train[['seed_diff', 'pred']],\n",
    "          [games_tourney_train[['score_diff']], games_tourney_train[['won']]],\n",
    "          epochs=20,\n",
    "          verbose=True,\n",
    "          batch_size=16384);"
   ]
  },
  {
   "cell_type": "markdown",
   "metadata": {},
   "source": [
    "### Inspect the model (II)\n",
    "Now you should take a look at the weights for this model. In particular, note the last weight of the model. This weight converts the predicted score difference to a predicted win probability. If you multiply the predicted score difference by the last weight of the model and then apply the sigmoid function, you get the win probability of the game."
   ]
  },
  {
   "cell_type": "code",
   "execution_count": 39,
   "metadata": {},
   "outputs": [
    {
     "data": {
      "text/plain": [
       "[array([[-0.20842406],\n",
       "        [ 0.09616191]], dtype=float32),\n",
       " array([[-1.0649642]], dtype=float32)]"
      ]
     },
     "execution_count": 39,
     "metadata": {},
     "output_type": "execute_result"
    }
   ],
   "source": [
    "# Print the model weights\n",
    "model.get_weights()"
   ]
  },
  {
   "cell_type": "code",
   "execution_count": 40,
   "metadata": {},
   "outputs": [
    {
     "data": {
      "text/plain": [
       "season        1997.548544\n",
       "team_1        5560.890777\n",
       "team_2        5560.890777\n",
       "home             0.000000\n",
       "seed_diff        0.000000\n",
       "score_diff       0.000000\n",
       "score_1         71.786711\n",
       "score_2         71.786711\n",
       "won              0.500000\n",
       "pred             0.168156\n",
       "dtype: float64"
      ]
     },
     "execution_count": 40,
     "metadata": {},
     "output_type": "execute_result"
    }
   ],
   "source": [
    "# Print the training data means\n",
    "games_tourney_train.mean()"
   ]
  },
  {
   "cell_type": "code",
   "execution_count": 41,
   "metadata": {},
   "outputs": [
    {
     "name": "stdout",
     "output_type": "stream",
     "text": [
      "0.5349429451582145\n",
      "0.8021838885585818\n"
     ]
    }
   ],
   "source": [
    "from scipy.special import expit as sigmoid\n",
    "\n",
    "# Weight from the model\n",
    "weight=0.14\n",
    "\n",
    "# Print the approximate win probability predicted close game\n",
    "print(sigmoid(1 * weight))\n",
    "\n",
    "# Print the approximate win probability predicted blowout game\n",
    "print(sigmoid(10 * weight))"
   ]
  },
  {
   "cell_type": "markdown",
   "metadata": {},
   "source": [
    "### Evaluate on new data with two metrics\n",
    "Now that you've fit your model and inspected its weights to make sure they make sense, evaluate your model on the tournament test set to see how well it does on new data.\n",
    "\n",
    "Note that in this case, Keras will return 3 numbers: the first number will be the sum of both the loss functions, and then the next 2 numbers will be the loss functions you used when defining the model."
   ]
  },
  {
   "cell_type": "code",
   "execution_count": 43,
   "metadata": {},
   "outputs": [
    {
     "name": "stdout",
     "output_type": "stream",
     "text": [
      "[12.621613502502441, 12.019590377807617, 0.6020237803459167]\n"
     ]
    }
   ],
   "source": [
    "# Evaluate the model on new data\n",
    "print(model.evaluate(games_tourney_test[['seed_diff', 'pred']],\n",
    "                    [games_tourney_test[['score_diff']], games_tourney_test[['won']]], \n",
    "                     verbose=False))"
   ]
  }
 ],
 "metadata": {
  "kernelspec": {
   "display_name": "Python 3",
   "language": "python",
   "name": "python3"
  },
  "language_info": {
   "codemirror_mode": {
    "name": "ipython",
    "version": 3
   },
   "file_extension": ".py",
   "mimetype": "text/x-python",
   "name": "python",
   "nbconvert_exporter": "python",
   "pygments_lexer": "ipython3",
   "version": "3.7.6"
  }
 },
 "nbformat": 4,
 "nbformat_minor": 4
}
