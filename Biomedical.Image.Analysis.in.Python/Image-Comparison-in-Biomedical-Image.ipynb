{
 "cells": [
  {
   "cell_type": "markdown",
   "metadata": {},
   "source": [
    "# Image Comparison in Biomedical image Analysis\n",
    "> For the final chapter, you'll need to use your brain... and hundreds of others! Drawing data from more than 400 open-access MR images, you'll learn the basics of registration, resampling, and image comparison. Then, you'll use the extracted measurements to evaluate the effect of Alzheimer's Disease on brain structure. This is the Summary of lecture \"Biomedical Image Analysis in Python\", via datacamp.\n",
    "\n",
    "- toc: true \n",
    "- badges: true\n",
    "- comments: true\n",
    "- author: Chanseok Kang\n",
    "- categories: [Python, Datacamp, Vision]\n",
    "- image: "
   ]
  },
  {
   "cell_type": "code",
   "execution_count": 1,
   "metadata": {},
   "outputs": [],
   "source": [
    "import imageio\n",
    "import numpy as np\n",
    "import scipy.ndimage as ndi\n",
    "import matplotlib.pyplot as plt"
   ]
  },
  {
   "cell_type": "markdown",
   "metadata": {},
   "source": [
    "## Spatial transformations\n",
    "- Registration\n",
    "    - Align images to template\n",
    "    - Minimize spatial variability\n",
    "    - Templates:\n",
    "        - May represent multiple subjects\n",
    "        - May be an \"average\" image\n",
    "    - Entails many spatial transformations\n",
    "- Affine transformation\n",
    "![affine](image/Affine_transformation.png)\n",
    "\n",
    "    - **translation**: shifting of an image along an axis\n",
    "    - **rotation**: turn the image along a plane\n",
    "    - **scaling**: increase/decrease the size of the image\n",
    "    - **shearing**: shift the ends of an axis away from each other."
   ]
  },
  {
   "cell_type": "markdown",
   "metadata": {},
   "source": [
    "### Translations\n",
    "In this chapter, we'll leverage data use data from the [Open Access Series of Imaging Studies](https://www.oasis-brains.org/) to compare the brains of different populations: young and old, male and female, healthy and diseased.\n",
    "\n",
    "To start, center a single slice of a 3D brain volume (im). First, find the center point in the image array and the center of mass of the brain. Then, translate the image to the center."
   ]
  },
  {
   "cell_type": "code",
   "execution_count": 2,
   "metadata": {},
   "outputs": [],
   "source": [
    "def format_and_render_plot():\n",
    "    '''Custom function to simplify common formatting operations for exercises. \n",
    "    Operations include: \n",
    "    1. Looping through `fig.axes` and turning off axis grid.\n",
    "    2. Calling `plt.tight_layout` to improve subplot spacing.\n",
    "    3. Calling `plt.show()` to render plot.'''\n",
    "    fig = plt.gcf()\n",
    "    for ax in fig.axes:\n",
    "        ax.axis('off')\n",
    "    plt.tight_layout()\n",
    "    plt.show()"
   ]
  },
  {
   "cell_type": "code",
   "execution_count": null,
   "metadata": {},
   "outputs": [],
   "source": [
    "# Find image center of mass\n",
    "com = ndi.center_of_mass(im)\n",
    "\n",
    "# Calculate amount of shift needed\n",
    "d0 = 128 - com[0]\n",
    "d1 = 128 - com[1]\n",
    "\n",
    "# Translate the brain towards the center\n",
    "xfm = ndi.shift(im, shift=(d0, d1))\n",
    "\n",
    "# Plot the original and adjusted images\n",
    "fig, axes = plt.subplots(2, 1)\n",
    "axes[0].imshow(im)\n",
    "axes[1].imshow(xfm)\n",
    "format_and_render_plot()"
   ]
  },
  {
   "cell_type": "markdown",
   "metadata": {},
   "source": [
    "### Rotations\n",
    "In cases where an object is angled or flipped, the image can be rotated. Using `ndi.rotate()`, the image is rotated from its center by the specified degrees from the right horizontal axis.\n",
    "![rotate](image/Ch4_L1_Rotated-Head.png)\n",
    "\n",
    "For this exercise, shift and rotate the brain image (`im`) so that it is roughly level and \"facing\" the right side of the image.\n",
    "\n",
    "\n"
   ]
  },
  {
   "cell_type": "code",
   "execution_count": null,
   "metadata": {},
   "outputs": [],
   "source": [
    "# Shift the image towards the center\n",
    "xfm = ndi.shift(im, shift=(-20, -20))\n",
    "\n",
    "# Rotate the shifted image\n",
    "xfm = ndi.rotate(xfm, angle=-30, reshape=False)\n",
    "\n",
    "# Plot the original and rotated images\n",
    "fig, axes = plt.subplots(2, 1)\n",
    "axes[0].imshow(im)\n",
    "axes[1].imshow(xfm)\n",
    "format_and_render_plot()"
   ]
  },
  {
   "cell_type": "markdown",
   "metadata": {},
   "source": [
    "The order of transformations makes a difference: rotating the image first will alter the object center, changing the amount of shift needed."
   ]
  },
  {
   "cell_type": "markdown",
   "metadata": {},
   "source": [
    "### Affine transform\n",
    "An affine transformation matrix provides directions for up to four types of changes: translating, rotating, rescaling and shearing. The elements of the matrix map the coordinates from the input array to the output.\n",
    "\n",
    "![affine](image/Ch4_L3_Transformations.png)\n",
    "\n"
   ]
  },
  {
   "cell_type": "markdown",
   "metadata": {},
   "source": [
    "To implement matrix transformations in your workflow, you will likely want to use more advanced tools, such as those in scikit-image. The package's website has some [nice tutorials](http://scikit-image.org/docs/dev/auto_examples/xx_applications/plot_geometric.html). Also, note that 3D images require different size transformation matrices."
   ]
  },
  {
   "cell_type": "markdown",
   "metadata": {},
   "source": [
    "## Resampling and interpolation\n",
    "- Resampling changes the array shape\n",
    "![resample](image/resampling.png)\n",
    "- Upsampling\n",
    "    - Resampling to a larger grid\n",
    "    - Not the same as collecting higher-resolution data\n",
    "    - Useful for standardizing sampling rates that are unequal\n",
    "- Interpolation\n",
    "    - \"Stitches together\" grid points to model the space between points\n",
    "    - **nearest-neighbor**:uses the closest measured value.(order = 0)\n",
    "    - **b-spline interpolation**: models space between points with spline functions of a specified order (order is between 1 and 5)"
   ]
  },
  {
   "cell_type": "markdown",
   "metadata": {},
   "source": [
    "### Resampling\n",
    "Images can be collected in a variety of shapes and sizes. Resampling is a useful tool when these shapes need to be made consistent. Two common applications are:\n",
    "\n",
    "- **Downsampling**: combining pixel data to decrease size\n",
    "- **Upsampling**: distributing pixel data to increase size\n",
    "\n",
    "For this exercise, transform and then resample the brain image (`im`) to see how it affects image shape."
   ]
  },
  {
   "cell_type": "code",
   "execution_count": null,
   "metadata": {},
   "outputs": [],
   "source": [
    "# Center and level image\n",
    "xfm = ndi.shift(im, shift=(-20, -20))\n",
    "xfm = ndi.rotate(xfm, angle=-35, reshape=False)\n",
    "\n",
    "# Resample image\n",
    "im_dn = ndi.zoom(xfm, zoom=0.25)\n",
    "im_up = ndi.zoom(xfm, zoom=4)\n",
    "\n",
    "# Plot the image\n",
    "fig, axes = plt.subplots(2, 1)\n",
    "axes[0].imshow(im_dn)\n",
    "axes[1].imshow(im_up)\n",
    "format_and_render_plots()"
   ]
  },
  {
   "cell_type": "markdown",
   "metadata": {},
   "source": [
    "### Interpolation\n",
    "Interpolation is how new pixel intensities are estimated when an image transformation is applied. It is implemented in SciPy using [sets of spline functions](https://docs.scipy.org/doc/scipy/reference/tutorial/interpolate.html).\n",
    "\n",
    "Editing the interpolation `order` when using a function such as `ndi.zoom()` modifies the resulting estimate: higher orders provide more flexible estimates but take longer to compute.\n",
    "\n",
    "For this exercise, upsample `im` and investigate the effect of different interpolation orders on the resulting image."
   ]
  },
  {
   "cell_type": "code",
   "execution_count": null,
   "metadata": {},
   "outputs": [],
   "source": [
    "# Upsample \"im\" by a factor of 4\n",
    "up0 = ndi.zoom(im, zoom=4, order=0)\n",
    "up5 = ndi.zoom(im, zoom=4, order=5)\n",
    "\n",
    "# Print original and new shape\n",
    "print('Original shape:', im.shape)\n",
    "print('Upsampled shape:', up0.shape)\n",
    "\n",
    "# Plot close-ups of the new images\n",
    "fig, axes = plt.subplots(1, 2)\n",
    "axes[0].imshow(up0[128:256, 128:256])\n",
    "axes[1].imshow(up5[128:256, 128:256])\n",
    "format_and_render_plots()"
   ]
  },
  {
   "cell_type": "markdown",
   "metadata": {},
   "source": [
    "The key trade-off is that more complex interpolation methods require greater computational resources. This can take a heavy toll when analyzing 3D volumes."
   ]
  },
  {
   "cell_type": "markdown",
   "metadata": {},
   "source": [
    "## Comparing images\n",
    "- Intersection of the union\n",
    "$$ IOU = \\frac{I_1 \\cap l_2}{I_1 \\cup I_2} $$\n"
   ]
  },
  {
   "cell_type": "markdown",
   "metadata": {},
   "source": [
    "### Mean absolute error\n",
    "Cost functions and objective functions output a single value that summarizes how well two images match.\n",
    "\n",
    "The **mean absolute error** (MAE), for example, summarizes intensity differences between two images, with higher values indicating greater divergence.\n",
    "\n",
    "For this exercise, calculate the mean absolute error between `im1` and `im2` step-by-step."
   ]
  },
  {
   "cell_type": "code",
   "execution_count": 3,
   "metadata": {},
   "outputs": [],
   "source": [
    "def format_and_render_plot():\n",
    "    '''Custom function to simplify common formatting operations for exercises.'''\n",
    "\n",
    "    from mpl_toolkits.axes_grid1 import make_axes_locatable\n",
    "\n",
    "    fig = plt.gcf()\n",
    "    ax = fig.axes[0]\n",
    "    ax.axis('off')\n",
    "    divider = make_axes_locatable(ax)\n",
    "    cax = divider.append_axes(\"right\", size=\"5%\", pad=0.05)\n",
    "    plt.colorbar(ax.get_images()[0], cax=cax)\n",
    "    plt.show()"
   ]
  },
  {
   "cell_type": "code",
   "execution_count": null,
   "metadata": {},
   "outputs": [],
   "source": [
    "# Calculate image difference\n",
    "err = im1 - im2\n",
    "\n",
    "# Plot the difference\n",
    "plt.imshow(err, cmap='seismic', vmin=-200, vmax=200)\n",
    "format_and_render_plot()"
   ]
  },
  {
   "cell_type": "code",
   "execution_count": null,
   "metadata": {},
   "outputs": [],
   "source": [
    "# Calculate absolute image difference\n",
    "abs_err = np.abs(im1 - im2)\n",
    "\n",
    "# Plot the difference\n",
    "plt.imshow(abs_err, cmap='seismic', vmin=-200, vmax=200)\n",
    "format_and_render_plot()"
   ]
  },
  {
   "cell_type": "code",
   "execution_count": null,
   "metadata": {},
   "outputs": [],
   "source": [
    "# Calculate mean absolute error\n",
    "mean_abs_err = np.mean(np.abs(im1 - im2))\n",
    "print('MAE:', mean_abs_err)"
   ]
  },
  {
   "cell_type": "markdown",
   "metadata": {},
   "source": [
    "The MAE metric allows for variations in weighting throughout the image, which gives areas with high pixel intensities more influence on the cost calculation than others."
   ]
  },
  {
   "cell_type": "markdown",
   "metadata": {},
   "source": [
    "## Normalizing measurements\n",
    "- Hypothesis testing\n",
    "    - Null hypothesis: two populations' mean brain volumes ($\\mu_m, \\mu_w$) are equal.\n",
    "    \n",
    "$$ H_{null}: \\mu_w = \\mu_m \\\\ H_{alt} : \\mu_w \\neq \\mu_m \\\\ t = \\frac{\\bar{X} - \\mu}{\\frac{s}{\\sqrt{n}}}   $$"
   ]
  },
  {
   "cell_type": "markdown",
   "metadata": {},
   "source": [
    "### Identifying potential confounds\n",
    "Once measures have been extracted, double-check for dependencies within your data. This is especially true if any image parameters (sampling rate, field of view) might differ between subjects, or you pull multiple measures from a single image.\n",
    "\n",
    "For the final exercises, we have combined demographic and brain volume measures into a pandas DataFrame (`df`).\n",
    "\n",
    "First, you will explore the table and available variables. Then, you will check for correlations between the data."
   ]
  },
  {
   "cell_type": "code",
   "execution_count": 9,
   "metadata": {},
   "outputs": [
    {
     "data": {
      "text/html": [
       "<div>\n",
       "<style scoped>\n",
       "    .dataframe tbody tr th:only-of-type {\n",
       "        vertical-align: middle;\n",
       "    }\n",
       "\n",
       "    .dataframe tbody tr th {\n",
       "        vertical-align: top;\n",
       "    }\n",
       "\n",
       "    .dataframe thead th {\n",
       "        text-align: right;\n",
       "    }\n",
       "</style>\n",
       "<table border=\"1\" class=\"dataframe\">\n",
       "  <thead>\n",
       "    <tr style=\"text-align: right;\">\n",
       "      <th></th>\n",
       "      <th>age</th>\n",
       "      <th>sex</th>\n",
       "      <th>alzheimers</th>\n",
       "      <th>brain_vol</th>\n",
       "      <th>skull_vol</th>\n",
       "    </tr>\n",
       "    <tr>\n",
       "      <th>ID</th>\n",
       "      <th></th>\n",
       "      <th></th>\n",
       "      <th></th>\n",
       "      <th></th>\n",
       "      <th></th>\n",
       "    </tr>\n",
       "  </thead>\n",
       "  <tbody>\n",
       "    <tr>\n",
       "      <th>OAS1_0001_MR1</th>\n",
       "      <td>74</td>\n",
       "      <td>F</td>\n",
       "      <td>False</td>\n",
       "      <td>807.935</td>\n",
       "      <td>1347.497879</td>\n",
       "    </tr>\n",
       "    <tr>\n",
       "      <th>OAS1_0002_MR1</th>\n",
       "      <td>55</td>\n",
       "      <td>F</td>\n",
       "      <td>False</td>\n",
       "      <td>808.760</td>\n",
       "      <td>1151.269287</td>\n",
       "    </tr>\n",
       "    <tr>\n",
       "      <th>OAS1_0003_MR1</th>\n",
       "      <td>73</td>\n",
       "      <td>F</td>\n",
       "      <td>True</td>\n",
       "      <td>860.255</td>\n",
       "      <td>1403.415054</td>\n",
       "    </tr>\n",
       "    <tr>\n",
       "      <th>OAS1_0004_MR1</th>\n",
       "      <td>28</td>\n",
       "      <td>M</td>\n",
       "      <td>False</td>\n",
       "      <td>1058.202</td>\n",
       "      <td>1593.284910</td>\n",
       "    </tr>\n",
       "    <tr>\n",
       "      <th>OAS1_0005_MR1</th>\n",
       "      <td>18</td>\n",
       "      <td>M</td>\n",
       "      <td>False</td>\n",
       "      <td>1263.391</td>\n",
       "      <td>1733.779281</td>\n",
       "    </tr>\n",
       "  </tbody>\n",
       "</table>\n",
       "</div>"
      ],
      "text/plain": [
       "               age sex  alzheimers  brain_vol    skull_vol\n",
       "ID                                                        \n",
       "OAS1_0001_MR1   74   F       False    807.935  1347.497879\n",
       "OAS1_0002_MR1   55   F       False    808.760  1151.269287\n",
       "OAS1_0003_MR1   73   F        True    860.255  1403.415054\n",
       "OAS1_0004_MR1   28   M       False   1058.202  1593.284910\n",
       "OAS1_0005_MR1   18   M       False   1263.391  1733.779281"
      ]
     },
     "execution_count": 9,
     "metadata": {},
     "output_type": "execute_result"
    }
   ],
   "source": [
    "import pandas as pd\n",
    "df = pd.read_csv('./dataset/oasis_all_volumes.csv', index_col='ID')[['age', \n",
    "                                                                     'sex', \n",
    "                                                                     'alzheimers', \n",
    "                                                                     'brain_vol', \n",
    "                                                                     'skull_vol']]\n",
    "df.head()"
   ]
  },
  {
   "cell_type": "code",
   "execution_count": 10,
   "metadata": {},
   "outputs": [
    {
     "name": "stdout",
     "output_type": "stream",
     "text": [
      "               age sex  alzheimers  brain_vol    skull_vol\n",
      "ID                                                        \n",
      "OAS1_0319_MR1   31   M       False   1087.585  1584.562168\n",
      "OAS1_0350_MR1   21   M       False   1198.931  1615.906633\n",
      "OAS1_0349_MR1   43   F       False    933.523  1400.255991\n",
      "False    332\n",
      "True      93\n",
      "Name: alzheimers, dtype: int64\n",
      "                 age  alzheimers  brain_vol  skull_vol\n",
      "age         1.000000    0.542463  -0.719211  -0.141576\n",
      "alzheimers  0.542463    1.000000  -0.446771   0.014222\n",
      "brain_vol  -0.719211   -0.446771   1.000000   0.654829\n",
      "skull_vol  -0.141576    0.014222   0.654829   1.000000\n"
     ]
    }
   ],
   "source": [
    "# Print random sample of rows\n",
    "print(df.sample(3))\n",
    "\n",
    "# Print prevalence of Alzheimer's Disease\n",
    "print(df['alzheimers'].value_counts())\n",
    "\n",
    "# Print a correlation table\n",
    "print(df.corr())"
   ]
  },
  {
   "cell_type": "markdown",
   "metadata": {},
   "source": [
    "### Testing group differences\n",
    "Let's test the hypothesis that Alzheimer's Disease is characterized by reduced brain volume.\n",
    "![test](image/Ch4_L4_Alzheimers-Typical.png)\n",
    "\n",
    "We can perform a **two-sample t-test** between the brain volumes of elderly adults with and without Alzheimer's Disease. In this case, the two population samples are independent from each other because they are all separate subjects.\n",
    "\n",
    "For this exercise, use the OASIS dataset (`df`) and `ttest_ind` to evaluate the hypothesis."
   ]
  },
  {
   "cell_type": "code",
   "execution_count": 13,
   "metadata": {},
   "outputs": [
    {
     "name": "stdout",
     "output_type": "stream",
     "text": [
      "t =  -10.270763061696771\n",
      "p =  3.0435503446584287e-22\n"
     ]
    },
    {
     "data": {
      "image/png": "[encoded data removed]",
      "text/plain": [
       "<Figure size 432x288 with 1 Axes>"
      ]
     },
     "metadata": {
      "needs_background": "light"
     },
     "output_type": "display_data"
    }
   ],
   "source": [
    "from scipy.stats import ttest_ind\n",
    "\n",
    "# Select data from 'alzheimers' and 'typical' groups\n",
    "brain_alz = df.loc[df.alzheimers == True, 'brain_vol']\n",
    "brain_typ = df.loc[df.alzheimers == False, 'brain_vol']\n",
    "\n",
    "# Perform t-test of \"alz\" > \"typ\"\n",
    "results = ttest_ind(brain_alz, brain_typ)\n",
    "print('t = ', results.statistic)\n",
    "print('p = ', results.pvalue)\n",
    "\n",
    "# Show boxplot of brain_vol difference\n",
    "df.boxplot(column='brain_vol', by='alzheimers');\n",
    "plt.tight_layout();"
   ]
  },
  {
   "cell_type": "markdown",
   "metadata": {},
   "source": [
    "There is some evidence for decreased brain volume in individuals with Alzheimer's Disease. Since the p-value for this t-test is greater than 0.05, we would not reject the null hypothesis that states the two groups are equal."
   ]
  },
  {
   "cell_type": "markdown",
   "metadata": {},
   "source": [
    "### Normalizing metrics\n",
    "We previously saw that there was not a significant difference between the brain volumes of elderly individuals with and without Alzheimer's Disease.\n",
    "\n",
    "But could a correlated measure, such as \"skull volume\" be masking the differences?\n",
    "\n",
    "For this exercise, calculate a new test statistic for the comparison of brain volume between groups, after adjusting for the subject's skull size.\n",
    "\n",
    "Using `results.statistic` and `results.pvalue` as your guide, answer the question: Is there strong evidence that Alzheimer's Disease is marked by smaller brain size, relative to skull size?"
   ]
  },
  {
   "cell_type": "code",
   "execution_count": 14,
   "metadata": {},
   "outputs": [
    {
     "name": "stdout",
     "output_type": "stream",
     "text": [
      "t =  -15.311391823926563\n",
      "p =  2.0192860861212413e-42\n"
     ]
    }
   ],
   "source": [
    "# Divide 'df.brain_vol' by 'df.skull_vol'\n",
    "df['adj_brain_vol'] = df['brain_vol'] / df['skull_vol']\n",
    "\n",
    "# Select brain measures by Alzheimers group\n",
    "brain_alz = df.loc[df.alzheimers == True, 'adj_brain_vol']\n",
    "brain_typ = df.loc[df.alzheimers == False, 'adj_brain_vol']\n",
    "\n",
    "# Evaluate null hypothesis\n",
    "results = ttest_ind(brain_alz, brain_typ)\n",
    "print('t = ', results.statistic)\n",
    "print('p = ', results.pvalue)"
   ]
  }
 ],
 "metadata": {
  "kernelspec": {
   "display_name": "Python 3",
   "language": "python",
   "name": "python3"
  },
  "language_info": {
   "codemirror_mode": {
    "name": "ipython",
    "version": 3
   },
   "file_extension": ".py",
   "mimetype": "text/x-python",
   "name": "python",
   "nbconvert_exporter": "python",
   "pygments_lexer": "ipython3",
   "version": "3.7.6"
  }
 },
 "nbformat": 4,
 "nbformat_minor": 4
}
