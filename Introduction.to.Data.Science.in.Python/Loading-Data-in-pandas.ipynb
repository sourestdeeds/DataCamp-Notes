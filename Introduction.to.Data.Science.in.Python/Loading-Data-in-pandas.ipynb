{
 "cells": [
  {
   "cell_type": "markdown",
   "metadata": {},
   "source": [
    "# Loading Data in pandas\n",
    "> In this chapter, you'll learn a powerful Python libary - pandas. Pandas lets you read, modify, and search tabular datasets (like spreadsheets and database tables). You'll examine credit card records for the suspects and see if any of them made suspicious purchases. This is the Summary of lecture \"Introduction to Data Science in Python\", via datacamp.\n",
    "- toc: true \n",
    "- badges: true\n",
    "- comments: true\n",
    "- author: Chanseok Kang\n",
    "- categories: [Python, Datacamp, Data_Science]\n",
    "- image: "
   ]
  },
  {
   "cell_type": "code",
   "execution_count": 1,
   "metadata": {},
   "outputs": [],
   "source": [
    "import pandas as pd\n",
    "import numpy as np\n",
    "import matplotlib.pyplot as plt"
   ]
  },
  {
   "cell_type": "markdown",
   "metadata": {},
   "source": [
    "## What is pandas?\n",
    "- Loading tabular data from different sources\n",
    "- Search for particular rows or columns\n",
    "- Calculate aggregate statistics"
   ]
  },
  {
   "cell_type": "markdown",
   "metadata": {},
   "source": [
    "### Loading a DataFrame\n",
    "We're still working hard to solve the kidnapping of Bayes, the Golden Retriever. Previously, we used a license plate spotted at the crime scene to narrow the list of suspects to:\n",
    "\n",
    "- Fred Frequentist\n",
    "- Ronald Aylmer Fisher\n",
    "- Gertrude Cox\n",
    "- Kirstine Smith\n",
    "\n",
    "We've obtained credit card records for all four suspects. Perhaps some of them made suspicious purchases before the kidnapping?"
   ]
  },
  {
   "cell_type": "code",
   "execution_count": 4,
   "metadata": {},
   "outputs": [
    {
     "data": {
      "text/html": [
       "<div>\n",
       "<style scoped>\n",
       "    .dataframe tbody tr th:only-of-type {\n",
       "        vertical-align: middle;\n",
       "    }\n",
       "\n",
       "    .dataframe tbody tr th {\n",
       "        vertical-align: top;\n",
       "    }\n",
       "\n",
       "    .dataframe thead th {\n",
       "        text-align: right;\n",
       "    }\n",
       "</style>\n",
       "<table border=\"1\" class=\"dataframe\">\n",
       "  <thead>\n",
       "    <tr style=\"text-align: right;\">\n",
       "      <th></th>\n",
       "      <th>suspect</th>\n",
       "      <th>location</th>\n",
       "      <th>date</th>\n",
       "      <th>item</th>\n",
       "      <th>price</th>\n",
       "    </tr>\n",
       "  </thead>\n",
       "  <tbody>\n",
       "    <tr>\n",
       "      <th>0</th>\n",
       "      <td>Kirstine Smith</td>\n",
       "      <td>Groceries R Us</td>\n",
       "      <td>January 6, 2018</td>\n",
       "      <td>broccoli</td>\n",
       "      <td>1.25</td>\n",
       "    </tr>\n",
       "    <tr>\n",
       "      <th>1</th>\n",
       "      <td>Gertrude Cox</td>\n",
       "      <td>Petroleum Plaza</td>\n",
       "      <td>January 6, 2018</td>\n",
       "      <td>fizzy drink</td>\n",
       "      <td>1.90</td>\n",
       "    </tr>\n",
       "    <tr>\n",
       "      <th>2</th>\n",
       "      <td>Fred Frequentist</td>\n",
       "      <td>Groceries R Us</td>\n",
       "      <td>January 6, 2018</td>\n",
       "      <td>broccoli</td>\n",
       "      <td>1.25</td>\n",
       "    </tr>\n",
       "    <tr>\n",
       "      <th>3</th>\n",
       "      <td>Gertrude Cox</td>\n",
       "      <td>Groceries R Us</td>\n",
       "      <td>January 12, 2018</td>\n",
       "      <td>broccoli</td>\n",
       "      <td>1.25</td>\n",
       "    </tr>\n",
       "    <tr>\n",
       "      <th>4</th>\n",
       "      <td>Kirstine Smith</td>\n",
       "      <td>Clothing Club</td>\n",
       "      <td>January 9, 2018</td>\n",
       "      <td>shirt</td>\n",
       "      <td>14.25</td>\n",
       "    </tr>\n",
       "  </tbody>\n",
       "</table>\n",
       "</div>"
      ],
      "text/plain": [
       "            suspect         location              date         item  price\n",
       "0    Kirstine Smith   Groceries R Us   January 6, 2018     broccoli   1.25\n",
       "1      Gertrude Cox  Petroleum Plaza   January 6, 2018  fizzy drink   1.90\n",
       "2  Fred Frequentist   Groceries R Us   January 6, 2018     broccoli   1.25\n",
       "3      Gertrude Cox   Groceries R Us  January 12, 2018     broccoli   1.25\n",
       "4    Kirstine Smith    Clothing Club   January 9, 2018        shirt  14.25"
      ]
     },
     "execution_count": 4,
     "metadata": {},
     "output_type": "execute_result"
    }
   ],
   "source": [
    "# Load the CSV \"credit_records.csv\"\n",
    "credit_records = pd.read_csv('./dataset/credit_records.csv')\n",
    "\n",
    "# Display the first five rows of credit_records using the .head() method\n",
    "credit_records.head(5)"
   ]
  },
  {
   "cell_type": "markdown",
   "metadata": {},
   "source": [
    "### Inspecting a DataFrame\n",
    "We've loaded the credit card records of our four suspects into a DataFrame called `credit_records`. Let's learn more about the structure of this DataFrame."
   ]
  },
  {
   "cell_type": "code",
   "execution_count": 7,
   "metadata": {},
   "outputs": [
    {
     "name": "stdout",
     "output_type": "stream",
     "text": [
      "<class 'pandas.core.frame.DataFrame'>\n",
      "RangeIndex: 104 entries, 0 to 103\n",
      "Data columns (total 5 columns):\n",
      " #   Column    Non-Null Count  Dtype  \n",
      "---  ------    --------------  -----  \n",
      " 0   suspect   104 non-null    object \n",
      " 1   location  104 non-null    object \n",
      " 2   date      104 non-null    object \n",
      " 3   item      104 non-null    object \n",
      " 4   price     104 non-null    float64\n",
      "dtypes: float64(1), object(4)\n",
      "memory usage: 4.2+ KB\n",
      "None\n"
     ]
    }
   ],
   "source": [
    "# Use .info() to inspect the DataFrame credit_records\n",
    "print(credit_records.info())"
   ]
  },
  {
   "cell_type": "markdown",
   "metadata": {},
   "source": [
    "## Selecting columns\n"
   ]
  },
  {
   "cell_type": "markdown",
   "metadata": {},
   "source": [
    "### Two methods for selecting columns\n",
    "Once again, we've loaded the credit card records of our four suspects into a DataFrame called `credit_records`. Let's examine the items that they've purchased.\n",
    "\n"
   ]
  },
  {
   "cell_type": "code",
   "execution_count": 8,
   "metadata": {},
   "outputs": [
    {
     "name": "stdout",
     "output_type": "stream",
     "text": [
      "0         broccoli\n",
      "1      fizzy drink\n",
      "2         broccoli\n",
      "3         broccoli\n",
      "4            shirt\n",
      "          ...     \n",
      "99           shirt\n",
      "100          pants\n",
      "101          dress\n",
      "102         burger\n",
      "103      cucumbers\n",
      "Name: item, Length: 104, dtype: object\n"
     ]
    }
   ],
   "source": [
    "# Select the column item from credit_records\n",
    "# Use brackets and string notation\n",
    "items = credit_records['item']\n",
    "\n",
    "# Display the results\n",
    "print(items)"
   ]
  },
  {
   "cell_type": "code",
   "execution_count": 9,
   "metadata": {},
   "outputs": [
    {
     "name": "stdout",
     "output_type": "stream",
     "text": [
      "0         broccoli\n",
      "1      fizzy drink\n",
      "2         broccoli\n",
      "3         broccoli\n",
      "4            shirt\n",
      "          ...     \n",
      "99           shirt\n",
      "100          pants\n",
      "101          dress\n",
      "102         burger\n",
      "103      cucumbers\n",
      "Name: item, Length: 104, dtype: object\n"
     ]
    }
   ],
   "source": [
    "# Select the column item from credit_records\n",
    "# Use dot notation\n",
    "items = credit_records.item\n",
    "\n",
    "# Display the results\n",
    "print(items)"
   ]
  },
  {
   "cell_type": "markdown",
   "metadata": {},
   "source": [
    "## Selecting rows with logic\n"
   ]
  },
  {
   "cell_type": "markdown",
   "metadata": {},
   "source": [
    "### Logical testing\n",
    "Let's practice writing logical statements and displaying the output.\n",
    "\n",
    "Recall that we use the following operators:\n",
    "\n",
    "- `==` tests that two values are equal.\n",
    "- `!=` tests that two values are not equal.\n",
    "- `>` and `<` test that greater than or less than, respectively.\n",
    "- `>=` and `<=` test greater than or equal to or less than or equal to, respectively."
   ]
  }
 ],
 "metadata": {
  "kernelspec": {
   "display_name": "Python 3",
   "language": "python",
   "name": "python3"
  },
  "language_info": {
   "codemirror_mode": {
    "name": "ipython",
    "version": 3
   },
   "file_extension": ".py",
   "mimetype": "text/x-python",
   "name": "python",
   "nbconvert_exporter": "python",
   "pygments_lexer": "ipython3",
   "version": "3.7.6"
  }
 },
 "nbformat": 4,
 "nbformat_minor": 4
}
