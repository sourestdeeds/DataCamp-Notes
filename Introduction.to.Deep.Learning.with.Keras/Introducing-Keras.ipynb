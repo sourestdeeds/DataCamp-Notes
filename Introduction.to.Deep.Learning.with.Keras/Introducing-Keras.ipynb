{
 "cells": [
  {
   "cell_type": "markdown",
   "metadata": {},
   "source": [
    "# Introducing Keras\n",
    "> In this first chapter, you will get introduced to neural networks, understand what kind of problems they can solve, and when to use them. You will also build several networks and save the earth by training a regression model that approximates the orbit of a meteor that is approaching us! This is the Summary of lecture \"Introduction to Deep Learning with Keras\", via datacamp.\n",
    "\n",
    "- toc: true \n",
    "- badges: true\n",
    "- comments: true\n",
    "- author: Chanseok Kang\n",
    "- categories: [Python, Datacamp, Tensorflow-Keras, Deep_Learning]\n",
    "- image: "
   ]
  },
  {
   "cell_type": "code",
   "execution_count": 1,
   "metadata": {},
   "outputs": [],
   "source": [
    "import numpy as np\n",
    "import pandas as pd\n",
    "import tensorflow as tf\n",
    "import matplotlib.pyplot as plt\n",
    "\n",
    "plt.rcParams['figure.figsize'] = (8, 8)"
   ]
  },
  {
   "cell_type": "markdown",
   "metadata": {},
   "source": [
    "## What is Keras?\n",
    "- Keras + Tensorflow\n",
    "    - Tensorflow's high level framework of choice\n",
    "    - Keras is complementary to Tensorflow\n",
    "- Feature Engineering\n",
    "![fe](image/fe.png)\n",
    "\n"
   ]
  },
  {
   "cell_type": "markdown",
   "metadata": {},
   "source": [
    "## Your first neural network\n",
    "- Neural Network\n",
    "![nn](image/simple_nn.png)\n"
   ]
  },
  {
   "cell_type": "markdown",
   "metadata": {},
   "source": [
    "### Hello nets!\n",
    "You're going to build a simple neural network to get a feeling of how quickly it is to accomplish this in Keras.\n",
    "\n",
    "You will build a network that takes two numbers as an input, passes them through a hidden layer of 10 neurons, and finally outputs a single non-constrained number.\n",
    "\n",
    "A non-constrained output can be obtained by avoiding setting an activation function in the output layer. This is useful for problems like regression, when we want our output to be able to take any non-constrained value.\n",
    "![net](image/hello_nets.png)"
   ]
  },
  {
   "cell_type": "code",
   "execution_count": 4,
   "metadata": {},
   "outputs": [
    {
     "name": "stdout",
     "output_type": "stream",
     "text": [
      "Model: \"sequential\"\n",
      "_________________________________________________________________\n",
      "Layer (type)                 Output Shape              Param #   \n",
      "=================================================================\n",
      "dense (Dense)                (None, 10)                30        \n",
      "_________________________________________________________________\n",
      "dense_1 (Dense)              (None, 1)                 11        \n",
      "=================================================================\n",
      "Total params: 41\n",
      "Trainable params: 41\n",
      "Non-trainable params: 0\n",
      "_________________________________________________________________\n"
     ]
    }
   ],
   "source": [
    "from tensorflow.keras import Sequential\n",
    "from tensorflow.keras.layers import Dense\n",
    "\n",
    "# Create a Sequential model\n",
    "model = Sequential()\n",
    "\n",
    "# Add an input layer and a hidden layer with 10 neurons\n",
    "model.add(Dense(10, input_shape=(2, ), activation='relu'))\n",
    "\n",
    "# Add a 1-neuron output layer\n",
    "model.add(Dense(1))\n",
    "\n",
    "# Summarize your model\n",
    "model.summary()"
   ]
  },
  {
   "cell_type": "markdown",
   "metadata": {},
   "source": [
    "## Surviving a meteor strike\n",
    "- Scientific prediction\n",
    "![meteor](image/meteor.png)"
   ]
  },
  {
   "cell_type": "markdown",
   "metadata": {},
   "source": [
    "### Specifying a model\n",
    "You will build a simple regression model to predict the orbit of the meteor!\n",
    "\n",
    "Your training data consist of measurements taken at time steps from -10 minutes before the impact region to +10 minutes after. Each time step can be viewed as an X coordinate in our graph, which has an associated position Y for the meteor orbit at that time step.\n",
    "\n",
    "Note that you can view this problem as approximating a quadratic function via the use of neural networks.\n",
    "![meteor2](image/meteor_orbit_3.jpg)\n",
    "This data is stored in two numpy arrays: one called `time_steps` , what we call features, and another called `y_positions`, with the labels. Go on and build your model! It should be able to predict the y positions for the meteor orbit at future time steps."
   ]
  },
  {
   "cell_type": "code",
   "execution_count": 7,
   "metadata": {},
   "outputs": [
    {
     "data": {
      "text/html": [
       "<div>\n",
       "<style scoped>\n",
       "    .dataframe tbody tr th:only-of-type {\n",
       "        vertical-align: middle;\n",
       "    }\n",
       "\n",
       "    .dataframe tbody tr th {\n",
       "        vertical-align: top;\n",
       "    }\n",
       "\n",
       "    .dataframe thead th {\n",
       "        text-align: right;\n",
       "    }\n",
       "</style>\n",
       "<table border=\"1\" class=\"dataframe\">\n",
       "  <thead>\n",
       "    <tr style=\"text-align: right;\">\n",
       "      <th></th>\n",
       "      <th>time_steps</th>\n",
       "      <th>y</th>\n",
       "    </tr>\n",
       "  </thead>\n",
       "  <tbody>\n",
       "    <tr>\n",
       "      <th>0</th>\n",
       "      <td>-10.000000</td>\n",
       "      <td>100.000000</td>\n",
       "    </tr>\n",
       "    <tr>\n",
       "      <th>1</th>\n",
       "      <td>-9.989995</td>\n",
       "      <td>99.800000</td>\n",
       "    </tr>\n",
       "    <tr>\n",
       "      <th>2</th>\n",
       "      <td>-9.979990</td>\n",
       "      <td>99.600200</td>\n",
       "    </tr>\n",
       "    <tr>\n",
       "      <th>3</th>\n",
       "      <td>-9.969985</td>\n",
       "      <td>99.400601</td>\n",
       "    </tr>\n",
       "    <tr>\n",
       "      <th>4</th>\n",
       "      <td>-9.959980</td>\n",
       "      <td>99.201201</td>\n",
       "    </tr>\n",
       "  </tbody>\n",
       "</table>\n",
       "</div>"
      ],
      "text/plain": [
       "   time_steps           y\n",
       "0  -10.000000  100.000000\n",
       "1   -9.989995   99.800000\n",
       "2   -9.979990   99.600200\n",
       "3   -9.969985   99.400601\n",
       "4   -9.959980   99.201201"
      ]
     },
     "execution_count": 7,
     "metadata": {},
     "output_type": "execute_result"
    }
   ],
   "source": [
    "orbit = pd.read_csv('./dataset/orbit.csv')\n",
    "orbit.head()"
   ]
  },
  {
   "cell_type": "code",
   "execution_count": 8,
   "metadata": {},
   "outputs": [],
   "source": [
    "time_steps = orbit['time_steps'].to_numpy()\n",
    "y_positions = orbit['y'].to_numpy()"
   ]
  },
  {
   "cell_type": "code",
   "execution_count": 9,
   "metadata": {},
   "outputs": [],
   "source": [
    "# Instantiate a Sequential model\n",
    "model = Sequential()\n",
    "\n",
    "# Add a Dense layer with 50 neurons and an input of 1 neuron\n",
    "model.add(Dense(50, input_shape=(1, ), activation='relu'))\n",
    "\n",
    "# Add two Dense layers with 50 neurons and relu activation\n",
    "model.add(Dense(50, activation='relu'))\n",
    "model.add(Dense(50, activation='relu'))\n",
    "\n",
    "# End your model with a Dense layer and no activation\n",
    "model.add(Dense(1))"
   ]
  },
  {
   "cell_type": "markdown",
   "metadata": {},
   "source": [
    "### Training\n",
    "You're going to train your first model in this course, and for a good cause!\n",
    "\n",
    "Remember that before training your Keras models you need to compile them. This can be done with the `.compile()` method. The `.compile()` method takes arguments such as the `optimizer`, used for weight updating, and the `loss` function, which is what we want to minimize. Training your model is as easy as calling the `.fit()` method, passing on the features, labels and a number of epochs to train for.\n",
    " Train it and evaluate it on this very same data, let's see if your model can learn the meteor's trajectory."
   ]
  },
  {
   "cell_type": "code",
   "execution_count": 10,
   "metadata": {},
   "outputs": [
    {
     "name": "stdout",
     "output_type": "stream",
     "text": [
      "Training started..., this can take a while:\n",
      "Epoch 1/30\n",
      "63/63 [==============================] - 0s 1ms/step - loss: 1466.8392\n",
      "Epoch 2/30\n",
      "63/63 [==============================] - 0s 1ms/step - loss: 224.4952\n",
      "Epoch 3/30\n",
      "63/63 [==============================] - 0s 1ms/step - loss: 139.0037\n",
      "Epoch 4/30\n",
      "63/63 [==============================] - 0s 1ms/step - loss: 120.6324\n",
      "Epoch 5/30\n",
      "63/63 [==============================] - 0s 1ms/step - loss: 100.1729\n",
      "Epoch 6/30\n",
      "63/63 [==============================] - 0s 1ms/step - loss: 77.3846\n",
      "Epoch 7/30\n",
      "63/63 [==============================] - 0s 1ms/step - loss: 53.5575\n",
      "Epoch 8/30\n",
      "63/63 [==============================] - 0s 1ms/step - loss: 33.8326\n",
      "Epoch 9/30\n",
      "63/63 [==============================] - 0s 1ms/step - loss: 20.0874\n",
      "Epoch 10/30\n",
      "63/63 [==============================] - 0s 1ms/step - loss: 10.9600\n",
      "Epoch 11/30\n",
      "63/63 [==============================] - 0s 1ms/step - loss: 6.7007\n",
      "Epoch 12/30\n",
      "63/63 [==============================] - 0s 1ms/step - loss: 4.2990\n",
      "Epoch 13/30\n",
      "63/63 [==============================] - 0s 1ms/step - loss: 3.2376\n",
      "Epoch 14/30\n",
      "63/63 [==============================] - 0s 1ms/step - loss: 2.4641\n",
      "Epoch 15/30\n",
      "63/63 [==============================] - 0s 1ms/step - loss: 1.6403\n",
      "Epoch 16/30\n",
      "63/63 [==============================] - 0s 1ms/step - loss: 1.4331\n",
      "Epoch 17/30\n",
      "63/63 [==============================] - 0s 1ms/step - loss: 1.3410\n",
      "Epoch 18/30\n",
      "63/63 [==============================] - 0s 1ms/step - loss: 1.1137\n",
      "Epoch 19/30\n",
      "63/63 [==============================] - 0s 1ms/step - loss: 0.5687\n",
      "Epoch 20/30\n",
      "63/63 [==============================] - 0s 1ms/step - loss: 0.5303\n",
      "Epoch 21/30\n",
      "63/63 [==============================] - 0s 1ms/step - loss: 0.4018\n",
      "Epoch 22/30\n",
      "63/63 [==============================] - 0s 998us/step - loss: 0.4746\n",
      "Epoch 23/30\n",
      "63/63 [==============================] - 0s 1ms/step - loss: 0.3703\n",
      "Epoch 24/30\n",
      "63/63 [==============================] - 0s 1ms/step - loss: 0.2841\n",
      "Epoch 25/30\n",
      "63/63 [==============================] - 0s 1ms/step - loss: 0.2144\n",
      "Epoch 26/30\n",
      "63/63 [==============================] - 0s 1ms/step - loss: 0.2089\n",
      "Epoch 27/30\n",
      "63/63 [==============================] - 0s 1ms/step - loss: 0.2090\n",
      "Epoch 28/30\n",
      "63/63 [==============================] - 0s 1ms/step - loss: 0.2035\n",
      "Epoch 29/30\n",
      "63/63 [==============================] - 0s 990us/step - loss: 0.1458\n",
      "Epoch 30/30\n",
      "63/63 [==============================] - 0s 997us/step - loss: 0.1600\n",
      "63/63 [==============================] - 0s 744us/step - loss: 0.1499\n",
      "Final loss value: 0.14994336664676666\n"
     ]
    }
   ],
   "source": [
    "# Compile your model\n",
    "model.compile(optimizer='adam', loss='mse')\n",
    "\n",
    "print('Training started..., this can take a while:')\n",
    "\n",
    "# Fit your model on your data for 30 epochs\n",
    "model.fit(time_steps, y_positions, epochs=30)\n",
    "\n",
    "# Evaluate your model\n",
    "print(\"Final loss value:\", model.evaluate(time_steps, y_positions))"
   ]
  },
  {
   "cell_type": "markdown",
   "metadata": {},
   "source": [
    "### Predicting the orbit!\n",
    "You've already trained a `model` that approximates the orbit of the meteor approaching Earth and it's loaded for you to use.\n",
    "\n",
    "Since you trained your model for values between -10 and 10 minutes, your model hasn't yet seen any other values for different time steps. You will now visualize how your model behaves on unseen data.\n",
    "\n",
    "Hurry up, the Earth is running out of time!\n",
    "\n",
    "Remember `np.arange(x,y)` produces a range of values from `x` to `y-1`. That is the `[x, y)` interval."
   ]
  },
  {
   "cell_type": "code",
   "execution_count": 14,
   "metadata": {},
   "outputs": [],
   "source": [
    "def plot_orbit(model_preds):\n",
    "    axeslim = int(len(model_preds) / 2)\n",
    "    plt.plot(np.arange(-axeslim, axeslim + 1),np.arange(-axeslim, axeslim + 1) ** 2,\n",
    "             color=\"mediumslateblue\")\n",
    "    plt.plot(np.arange(-axeslim, axeslim + 1),model_preds,color=\"orange\")\n",
    "    plt.axis([-40, 41, -5, 550])\n",
    "    plt.legend([\"Scientist's Orbit\", 'Your orbit'],loc=\"lower left\")\n",
    "    plt.title(\"Predicted orbit vs Scientist's Orbit\")"
   ]
  },
  {
   "cell_type": "code",
   "execution_count": 15,
   "metadata": {},
   "outputs": [
    {
     "data": {
      "image/png": "[encoded data removed]",
      "text/plain": [
       "<Figure size 576x576 with 1 Axes>"
      ]
     },
     "metadata": {
      "needs_background": "light"
     },
     "output_type": "display_data"
    }
   ],
   "source": [
    "# Predict the twenty minutes orbit\n",
    "twenty_min_orbit = model.predict(np.arange(-10, 11))\n",
    "\n",
    "# Plot the twenty minute orbit\n",
    "plot_orbit(twenty_min_orbit)"
   ]
  },
  {
   "cell_type": "code",
   "execution_count": 16,
   "metadata": {},
   "outputs": [
    {
     "data": {
      "image/png": "[encoded data removed]",
      "text/plain": [
       "<Figure size 576x576 with 1 Axes>"
      ]
     },
     "metadata": {
      "needs_background": "light"
     },
     "output_type": "display_data"
    }
   ],
   "source": [
    "# Predict the eighty minute orbit\n",
    "eighty_min_orbit = model.predict(np.arange(-40, 41))\n",
    "\n",
    "# Plot the eighty minute orbit\n",
    "plot_orbit(eighty_min_orbit)"
   ]
  },
  {
   "cell_type": "markdown",
   "metadata": {},
   "source": [
    "Your model fits perfectly to the scientists trajectory for time values between -10 to +10, the region where the meteor crosses the impact region, so we won't be hit! However, it starts to diverge when predicting for new values we haven't trained for. This shows neural networks learn according to the data they are fed with. Data quality and diversity are very important."
   ]
  }
 ],
 "metadata": {
  "kernelspec": {
   "display_name": "Python 3",
   "language": "python",
   "name": "python3"
  },
  "language_info": {
   "codemirror_mode": {
    "name": "ipython",
    "version": 3
   },
   "file_extension": ".py",
   "mimetype": "text/x-python",
   "name": "python",
   "nbconvert_exporter": "python",
   "pygments_lexer": "ipython3",
   "version": "3.7.6"
  }
 },
 "nbformat": 4,
 "nbformat_minor": 4
}
