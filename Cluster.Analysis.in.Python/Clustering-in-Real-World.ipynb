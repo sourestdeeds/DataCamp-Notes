{
 "cells": [
  {
   "cell_type": "markdown",
   "metadata": {},
   "source": [
    "# Clustering in Real World\n",
    "> A Summary of lecture \"Cluster Analysis in Python\", via datacamp\n",
    "\n",
    "- toc: true \n",
    "- badges: true\n",
    "- comments: true\n",
    "- author: Chanseok Kang\n",
    "- categories: [Python, Datacamp, Machine Learning]\n",
    "- image: "
   ]
  },
  {
   "cell_type": "code",
   "execution_count": 1,
   "metadata": {},
   "outputs": [],
   "source": [
    "import pandas as pd\n",
    "import numpy as np\n",
    "import matplotlib.pyplot as plt\n",
    "import seaborn as sns"
   ]
  },
  {
   "cell_type": "markdown",
   "metadata": {},
   "source": [
    "## Dominant colors in images\n",
    "- Dominant colors in images\n",
    "    - All images consist of pixels\n",
    "    - Each pixel has three values: R, G, B\n",
    "    - Pixel Color: combination of these RGB values\n",
    "    - Perform k-means on standardized RGB values to find cluster centers\n",
    "    - Uses: Identifying features in statelite images"
   ]
  },
  {
   "cell_type": "markdown",
   "metadata": {},
   "source": [
    "### Extract RGB values from image\n",
    "There are broadly three steps to find the dominant colors in an image:\n",
    "\n",
    "- Extract RGB values into three lists.\n",
    "- Perform k-means clustering on scaled RGB values.\n",
    "- Display the colors of cluster centers.\n",
    "![batman](dataset/batman.jpg)"
   ]
  },
  {
   "cell_type": "code",
   "execution_count": 2,
   "metadata": {},
   "outputs": [
    {
     "name": "stdout",
     "output_type": "stream",
     "text": [
      "(169, 269, 3)\n"
     ]
    }
   ],
   "source": [
    "import matplotlib.image as img\n",
    "\n",
    "r = []\n",
    "g = []\n",
    "b = []\n",
    "\n",
    "# Read batman image and print dimensions\n",
    "batman_image = img.imread('./dataset/batman.jpg')\n",
    "print(batman_image.shape)\n",
    "\n",
    "# Store RGB values of all pixels in lists r, g, and b\n",
    "for row in batman_image:\n",
    "    for temp_r, temp_g, temp_b in row: \n",
    "        r.append(temp_r)\n",
    "        g.append(temp_g)\n",
    "        b.append(temp_b)"
   ]
  },
  {
   "cell_type": "markdown",
   "metadata": {},
   "source": [
    "### How many dominant colors?\n",
    "Construct an elbow plot with the data frame. How many dominant colors are present?"
   ]
  },
  {
   "cell_type": "markdown",
   "metadata": {},
   "source": [
    "- Preprocess"
   ]
  },
  {
   "cell_type": "code",
   "execution_count": 3,
   "metadata": {},
   "outputs": [],
   "source": [
    "from scipy.cluster.vq import whiten\n",
    "\n",
    "batman_df = pd.DataFrame({'red':r, 'blue':b, 'green':g})\n",
    "batman_df['scaled_red'] = whiten(batman_df['red'])\n",
    "batman_df['scaled_blue'] = whiten(batman_df['blue'])\n",
    "batman_df['scaled_green'] = whiten(batman_df['green'])"
   ]
  },
  {
   "cell_type": "code",
   "execution_count": 5,
   "metadata": {},
   "outputs": [
    {
     "data": {
      "image/png": "[encoded data removed]",
      "text/plain": [
       "<Figure size 432x288 with 1 Axes>"
      ]
     },
     "metadata": {
      "needs_background": "light"
     },
     "output_type": "display_data"
    }
   ],
   "source": [
    "from scipy.cluster.vq import kmeans\n",
    "\n",
    "distortions = []\n",
    "num_clusters = range(1, 7)\n",
    "\n",
    "# Create a list of distortions from the kmeans function\n",
    "for i in num_clusters:\n",
    "    cluster_centers, distortion = kmeans(batman_df[['scaled_red', 'scaled_blue', 'scaled_green']], i)\n",
    "    distortions.append(distortion)\n",
    "    \n",
    "# Create a data frame with two lists, num_clusters and distortions\n",
    "elbow_plot = pd.DataFrame({'num_clusters': num_clusters, 'distortions': distortions})\n",
    "\n",
    "# Create a line plot of num_clusters and distortions\n",
    "sns.lineplot(x='num_clusters', y='distortions', data=elbow_plot);\n",
    "plt.xticks(num_clusters);"
   ]
  },
  {
   "cell_type": "markdown",
   "metadata": {},
   "source": [
    "### Display dominant colors\n",
    "To display the dominant colors, convert the colors of the cluster centers to their raw values and then converted them to the range of 0-1, using the following formula: \n",
    "```python\n",
    "converted_pixel = standardized_pixel * pixel_std / 255\n",
    "```"
   ]
  },
  {
   "cell_type": "code",
   "execution_count": 7,
   "metadata": {},
   "outputs": [
    {
     "data": {
      "text/plain": [
       "<matplotlib.image.AxesImage at 0x2222cd10a48>"
      ]
     },
     "execution_count": 7,
     "metadata": {},
     "output_type": "execute_result"
    },
    {
     "data": {
      "image/png": "[encoded data removed]",
      "text/plain": [
       "<Figure size 432x288 with 1 Axes>"
      ]
     },
     "metadata": {
      "needs_background": "light"
     },
     "output_type": "display_data"
    }
   ],
   "source": [
    "colors = []\n",
    "\n",
    "# Get standard deviations of each color\n",
    "r_std, g_std, b_std = batman_df[['red', 'green', 'blue']].std()\n",
    "\n",
    "for cluster_center in cluster_centers:\n",
    "    scaled_r, scaled_g, scaled_b = cluster_center\n",
    "    # Convert each standardized value to scaled value\n",
    "    colors.append((\n",
    "        scaled_r * r_std / 255.0,\n",
    "        scaled_g * g_std / 255.0,\n",
    "        scaled_b * b_std / 255.0\n",
    "        )\n",
    "    )\n",
    "    \n",
    "# Display colors of cluster centers\n",
    "plt.imshow([colors])"
   ]
  },
  {
   "cell_type": "markdown",
   "metadata": {},
   "source": [
    "## Document clustering\n",
    "- Document clustering: concepts\n",
    "    - 1. Clean data before processing\n",
    "    - 2. Determine the importance of the terms in a document (in tf-idf matrix)\n",
    "    - 3. Cluster the tf-idf matrix\n",
    "    - 4. Find top terms, documents in each cluster\n",
    "- TF-IDF (Term Frequency - Inverse Document Frequency)\n",
    "    - A weighted measure: evaluate how important a word is to a document in a collection\n",
    "- Top terms per cluster\n",
    "    - Cluster centers: lists with a size equal to the number of terms\n",
    "    - Each value in the cluster center is its importance\n",
    "- More considerations\n",
    "    - Work with hyperlinks, emoticons etc.\n",
    "    - Normalize words (e.g. run, ran, running -> run)\n",
    "    - ```.todense()``` may not work with large datasets"
   ]
  },
  {
   "cell_type": "markdown",
   "metadata": {},
   "source": [
    "### TF-IDF of movie plots\n",
    "Let us use the plots of randomly selected movies to perform document clustering on. Before performing clustering on documents, they need to be cleaned of any unwanted noise (such as special characters and stop words) and converted into a sparse matrix through TF-IDF of the documents.\n",
    "\n",
    "Use the ```TfidfVectorizer``` class to perform the TF-IDF of movie plots stored in the list ```plots```. The ```remove_noise()``` function is available to use as a ```tokenizer``` in the ```TfidfVectorizer``` class. The ```.fit_transform()``` method fits the data into the ```TfidfVectorizer``` objects and then generates the TF-IDF sparse matrix.\n",
    "\n",
    "**Note: It takes a few seconds to run the ```.fit_transform()``` method.**"
   ]
  },
  {
   "cell_type": "markdown",
   "metadata": {},
   "source": [
    "- Preprocess"
   ]
  },
  {
   "cell_type": "code",
   "execution_count": 22,
   "metadata": {},
   "outputs": [
    {
     "data": {
      "text/html": [
       "<div>\n",
       "<style scoped>\n",
       "    .dataframe tbody tr th:only-of-type {\n",
       "        vertical-align: middle;\n",
       "    }\n",
       "\n",
       "    .dataframe tbody tr th {\n",
       "        vertical-align: top;\n",
       "    }\n",
       "\n",
       "    .dataframe thead th {\n",
       "        text-align: right;\n",
       "    }\n",
       "</style>\n",
       "<table border=\"1\" class=\"dataframe\">\n",
       "  <thead>\n",
       "    <tr style=\"text-align: right;\">\n",
       "      <th></th>\n",
       "      <th>Title</th>\n",
       "      <th>Plot</th>\n",
       "    </tr>\n",
       "  </thead>\n",
       "  <tbody>\n",
       "    <tr>\n",
       "      <th>0</th>\n",
       "      <td>The Ballad of Cable Hogue</td>\n",
       "      <td>Cable Hogue is isolated in the desert, awaitin...</td>\n",
       "    </tr>\n",
       "    <tr>\n",
       "      <th>1</th>\n",
       "      <td>Monsters vs. Aliens</td>\n",
       "      <td>In the far reaches of space, a planet explodes...</td>\n",
       "    </tr>\n",
       "    <tr>\n",
       "      <th>2</th>\n",
       "      <td>The Bandit Queen</td>\n",
       "      <td>Zarra Montalvo is the daughter of an American ...</td>\n",
       "    </tr>\n",
       "    <tr>\n",
       "      <th>3</th>\n",
       "      <td>Broken Arrow</td>\n",
       "      <td>Major Vic Deakins (John Travolta) and Captain ...</td>\n",
       "    </tr>\n",
       "    <tr>\n",
       "      <th>4</th>\n",
       "      <td>Dolemite</td>\n",
       "      <td>Dolemite is a pimp and nightclub owner who is ...</td>\n",
       "    </tr>\n",
       "  </tbody>\n",
       "</table>\n",
       "</div>"
      ],
      "text/plain": [
       "                       Title  \\\n",
       "0  The Ballad of Cable Hogue   \n",
       "1        Monsters vs. Aliens   \n",
       "2           The Bandit Queen   \n",
       "3               Broken Arrow   \n",
       "4                   Dolemite   \n",
       "\n",
       "                                                Plot  \n",
       "0  Cable Hogue is isolated in the desert, awaitin...  \n",
       "1  In the far reaches of space, a planet explodes...  \n",
       "2  Zarra Montalvo is the daughter of an American ...  \n",
       "3  Major Vic Deakins (John Travolta) and Captain ...  \n",
       "4  Dolemite is a pimp and nightclub owner who is ...  "
      ]
     },
     "execution_count": 22,
     "metadata": {},
     "output_type": "execute_result"
    }
   ],
   "source": [
    "movie = pd.read_csv('./dataset/movies_plot.csv')\n",
    "movie.head()"
   ]
  },
  {
   "cell_type": "code",
   "execution_count": 23,
   "metadata": {},
   "outputs": [],
   "source": [
    "plots = movie['Plot'].values"
   ]
  },
  {
   "cell_type": "code",
   "execution_count": 24,
   "metadata": {},
   "outputs": [
    {
     "name": "stderr",
     "output_type": "stream",
     "text": [
      "[nltk_data] Downloading package punkt to\n",
      "[nltk_data]     C:\\Users\\kcsgo\\AppData\\Roaming\\nltk_data...\n",
      "[nltk_data]   Package punkt is already up-to-date!\n"
     ]
    }
   ],
   "source": [
    "from nltk.tokenize import word_tokenize\n",
    "import re\n",
    "\n",
    "import nltk\n",
    "nltk.download('punkt')\n",
    "\n",
    "def remove_noise(text, stop_words = []):\n",
    "    tokens = word_tokenize(text)\n",
    "    cleaned_tokens = []\n",
    "    for token in tokens:\n",
    "        token = re.sub('[^A-Za-z0-9]+', '', token)\n",
    "        if len(token) > 1 and token.lower() not in stop_words:\n",
    "            # Get lowercase\n",
    "            cleaned_tokens.append(token.lower())\n",
    "    return cleaned_tokens"
   ]
  },
  {
   "cell_type": "code",
   "execution_count": 25,
   "metadata": {},
   "outputs": [],
   "source": [
    "from sklearn.feature_extraction.text import TfidfVectorizer\n",
    "\n",
    "# Initialize TfidfVectorizer\n",
    "tfidf_vectorizer = TfidfVectorizer(min_df=0.1, max_df=0.75, max_features=50, tokenizer=remove_noise)\n",
    "\n",
    "# Use the .fit_transform() on the list plots\n",
    "tfidf_matrix = tfidf_vectorizer.fit_transform(plots)"
   ]
  },
  {
   "cell_type": "markdown",
   "metadata": {},
   "source": [
    "### Top terms in movie clusters\n",
    "Now that you have created a sparse matrix, generate cluster centers and print the top three terms in each cluster. Use the ```.todense()``` method to convert the sparse matrix, ```tfidf_matrix``` to a normal matrix for the ```kmeans()``` function to process. Then, use the ```.get_feature_names()``` method to get a list of terms in the ```tfidf_vectorizer``` object. The zip() function in Python joins two lists.\n",
    "\n",
    "With a higher number of data points, the clusters formed would be defined more clearly. However, this requires some computational power, making it difficult to accomplish in an exercise here.\n",
    "\n"
   ]
  },
  {
   "cell_type": "code",
   "execution_count": 26,
   "metadata": {},
   "outputs": [
    {
     "name": "stdout",
     "output_type": "stream",
     "text": [
      "['him', 'they', 'who']\n",
      "['her', 'she', 'him']\n"
     ]
    }
   ],
   "source": [
    "num_clusters = 2\n",
    "\n",
    "# Generate cluster centers through the kmeans function\n",
    "cluster_centers, distortion = kmeans(tfidf_matrix.todense(), num_clusters)\n",
    "\n",
    "# Generate terms from the tfidf_vectorizer object\n",
    "terms = tfidf_vectorizer.get_feature_names()\n",
    "\n",
    "for i in range(num_clusters):\n",
    "    # Sort the terms and print top 3 terms\n",
    "    center_terms = dict(zip(terms, list(cluster_centers[i])))\n",
    "    sorted_terms = sorted(center_terms, key=center_terms.get, reverse=True)\n",
    "    print(sorted_terms[:3])"
   ]
  },
  {
   "cell_type": "markdown",
   "metadata": {},
   "source": [
    "## Clustering with multiple features\n"
   ]
  },
  {
   "cell_type": "markdown",
   "metadata": {},
   "source": [
    "### Basic checks on clusters\n",
    "In the FIFA 18 dataset, we have concentrated on defenders in previous exercises. Let us try to focus on attacking attributes of a player. Pace (```pac```), Dribbling (```dri```) and Shooting (```sho```) are features that are present in attack minded players. In this exercise, k-means clustering has already been applied on the data using the scaled values of these three attributes. Try some basic checks on the clusters so formed.\n",
    "\n"
   ]
  },
  {
   "cell_type": "markdown",
   "metadata": {},
   "source": [
    "- Preprocess"
   ]
  },
  {
   "cell_type": "code",
   "execution_count": 27,
   "metadata": {},
   "outputs": [
    {
     "data": {
      "text/html": [
       "<div>\n",
       "<style scoped>\n",
       "    .dataframe tbody tr th:only-of-type {\n",
       "        vertical-align: middle;\n",
       "    }\n",
       "\n",
       "    .dataframe tbody tr th {\n",
       "        vertical-align: top;\n",
       "    }\n",
       "\n",
       "    .dataframe thead th {\n",
       "        text-align: right;\n",
       "    }\n",
       "</style>\n",
       "<table border=\"1\" class=\"dataframe\">\n",
       "  <thead>\n",
       "    <tr style=\"text-align: right;\">\n",
       "      <th></th>\n",
       "      <th>ID</th>\n",
       "      <th>name</th>\n",
       "      <th>full_name</th>\n",
       "      <th>club</th>\n",
       "      <th>club_logo</th>\n",
       "      <th>special</th>\n",
       "      <th>age</th>\n",
       "      <th>league</th>\n",
       "      <th>birth_date</th>\n",
       "      <th>height_cm</th>\n",
       "      <th>...</th>\n",
       "      <th>prefers_cb</th>\n",
       "      <th>prefers_lb</th>\n",
       "      <th>prefers_lwb</th>\n",
       "      <th>prefers_ls</th>\n",
       "      <th>prefers_lf</th>\n",
       "      <th>prefers_lam</th>\n",
       "      <th>prefers_lcm</th>\n",
       "      <th>prefers_ldm</th>\n",
       "      <th>prefers_lcb</th>\n",
       "      <th>prefers_gk</th>\n",
       "    </tr>\n",
       "  </thead>\n",
       "  <tbody>\n",
       "    <tr>\n",
       "      <th>0</th>\n",
       "      <td>20801</td>\n",
       "      <td>Cristiano Ronaldo</td>\n",
       "      <td>C. Ronaldo dos Santos Aveiro</td>\n",
       "      <td>Real Madrid CF</td>\n",
       "      <td>https://cdn.sofifa.org/18/teams/243.png</td>\n",
       "      <td>2228</td>\n",
       "      <td>32</td>\n",
       "      <td>Spanish Primera División</td>\n",
       "      <td>1985-02-05</td>\n",
       "      <td>185.0</td>\n",
       "      <td>...</td>\n",
       "      <td>False</td>\n",
       "      <td>False</td>\n",
       "      <td>False</td>\n",
       "      <td>False</td>\n",
       "      <td>False</td>\n",
       "      <td>False</td>\n",
       "      <td>False</td>\n",
       "      <td>False</td>\n",
       "      <td>False</td>\n",
       "      <td>False</td>\n",
       "    </tr>\n",
       "    <tr>\n",
       "      <th>1</th>\n",
       "      <td>158023</td>\n",
       "      <td>L. Messi</td>\n",
       "      <td>Lionel Messi</td>\n",
       "      <td>FC Barcelona</td>\n",
       "      <td>https://cdn.sofifa.org/18/teams/241.png</td>\n",
       "      <td>2158</td>\n",
       "      <td>30</td>\n",
       "      <td>Spanish Primera División</td>\n",
       "      <td>1987-06-24</td>\n",
       "      <td>170.0</td>\n",
       "      <td>...</td>\n",
       "      <td>False</td>\n",
       "      <td>False</td>\n",
       "      <td>False</td>\n",
       "      <td>False</td>\n",
       "      <td>False</td>\n",
       "      <td>False</td>\n",
       "      <td>False</td>\n",
       "      <td>False</td>\n",
       "      <td>False</td>\n",
       "      <td>False</td>\n",
       "    </tr>\n",
       "    <tr>\n",
       "      <th>2</th>\n",
       "      <td>190871</td>\n",
       "      <td>Neymar</td>\n",
       "      <td>Neymar da Silva Santos Jr.</td>\n",
       "      <td>Paris Saint-Germain</td>\n",
       "      <td>https://cdn.sofifa.org/18/teams/73.png</td>\n",
       "      <td>2100</td>\n",
       "      <td>25</td>\n",
       "      <td>French Ligue 1</td>\n",
       "      <td>1992-02-05</td>\n",
       "      <td>175.0</td>\n",
       "      <td>...</td>\n",
       "      <td>False</td>\n",
       "      <td>False</td>\n",
       "      <td>False</td>\n",
       "      <td>False</td>\n",
       "      <td>False</td>\n",
       "      <td>False</td>\n",
       "      <td>False</td>\n",
       "      <td>False</td>\n",
       "      <td>False</td>\n",
       "      <td>False</td>\n",
       "    </tr>\n",
       "    <tr>\n",
       "      <th>3</th>\n",
       "      <td>176580</td>\n",
       "      <td>L. Suárez</td>\n",
       "      <td>Luis Suárez</td>\n",
       "      <td>FC Barcelona</td>\n",
       "      <td>https://cdn.sofifa.org/18/teams/241.png</td>\n",
       "      <td>2291</td>\n",
       "      <td>30</td>\n",
       "      <td>Spanish Primera División</td>\n",
       "      <td>1987-01-24</td>\n",
       "      <td>182.0</td>\n",
       "      <td>...</td>\n",
       "      <td>False</td>\n",
       "      <td>False</td>\n",
       "      <td>False</td>\n",
       "      <td>False</td>\n",
       "      <td>False</td>\n",
       "      <td>False</td>\n",
       "      <td>False</td>\n",
       "      <td>False</td>\n",
       "      <td>False</td>\n",
       "      <td>False</td>\n",
       "    </tr>\n",
       "    <tr>\n",
       "      <th>4</th>\n",
       "      <td>167495</td>\n",
       "      <td>M. Neuer</td>\n",
       "      <td>Manuel Neuer</td>\n",
       "      <td>FC Bayern Munich</td>\n",
       "      <td>https://cdn.sofifa.org/18/teams/21.png</td>\n",
       "      <td>1493</td>\n",
       "      <td>31</td>\n",
       "      <td>German Bundesliga</td>\n",
       "      <td>1986-03-27</td>\n",
       "      <td>193.0</td>\n",
       "      <td>...</td>\n",
       "      <td>False</td>\n",
       "      <td>False</td>\n",
       "      <td>False</td>\n",
       "      <td>False</td>\n",
       "      <td>False</td>\n",
       "      <td>False</td>\n",
       "      <td>False</td>\n",
       "      <td>False</td>\n",
       "      <td>False</td>\n",
       "      <td>True</td>\n",
       "    </tr>\n",
       "  </tbody>\n",
       "</table>\n",
       "<p>5 rows × 185 columns</p>\n",
       "</div>"
      ],
      "text/plain": [
       "       ID               name                     full_name  \\\n",
       "0   20801  Cristiano Ronaldo  C. Ronaldo dos Santos Aveiro   \n",
       "1  158023           L. Messi                  Lionel Messi   \n",
       "2  190871             Neymar    Neymar da Silva Santos Jr.   \n",
       "3  176580          L. Suárez                   Luis Suárez   \n",
       "4  167495           M. Neuer                  Manuel Neuer   \n",
       "\n",
       "                  club                                club_logo  special  age  \\\n",
       "0       Real Madrid CF  https://cdn.sofifa.org/18/teams/243.png     2228   32   \n",
       "1         FC Barcelona  https://cdn.sofifa.org/18/teams/241.png     2158   30   \n",
       "2  Paris Saint-Germain   https://cdn.sofifa.org/18/teams/73.png     2100   25   \n",
       "3         FC Barcelona  https://cdn.sofifa.org/18/teams/241.png     2291   30   \n",
       "4     FC Bayern Munich   https://cdn.sofifa.org/18/teams/21.png     1493   31   \n",
       "\n",
       "                     league  birth_date  height_cm  ...  prefers_cb  \\\n",
       "0  Spanish Primera División  1985-02-05      185.0  ...       False   \n",
       "1  Spanish Primera División  1987-06-24      170.0  ...       False   \n",
       "2            French Ligue 1  1992-02-05      175.0  ...       False   \n",
       "3  Spanish Primera División  1987-01-24      182.0  ...       False   \n",
       "4         German Bundesliga  1986-03-27      193.0  ...       False   \n",
       "\n",
       "  prefers_lb  prefers_lwb prefers_ls prefers_lf prefers_lam  prefers_lcm  \\\n",
       "0      False        False      False      False       False        False   \n",
       "1      False        False      False      False       False        False   \n",
       "2      False        False      False      False       False        False   \n",
       "3      False        False      False      False       False        False   \n",
       "4      False        False      False      False       False        False   \n",
       "\n",
       "   prefers_ldm  prefers_lcb  prefers_gk  \n",
       "0        False        False       False  \n",
       "1        False        False       False  \n",
       "2        False        False       False  \n",
       "3        False        False       False  \n",
       "4        False        False        True  \n",
       "\n",
       "[5 rows x 185 columns]"
      ]
     },
     "execution_count": 27,
     "metadata": {},
     "output_type": "execute_result"
    }
   ],
   "source": [
    "fifa = pd.read_csv('./dataset/fifa_18_sample_data.csv')\n",
    "fifa.head()"
   ]
  },
  {
   "cell_type": "code",
   "execution_count": 29,
   "metadata": {},
   "outputs": [],
   "source": [
    "fifa['scaled_pac'] = whiten(fifa['pac'])\n",
    "fifa['scaled_dri'] = whiten(fifa['dri'])\n",
    "fifa['scaled_sho'] = whiten(fifa['sho'])"
   ]
  },
  {
   "cell_type": "code",
   "execution_count": 31,
   "metadata": {},
   "outputs": [],
   "source": [
    "from scipy.cluster.vq import vq\n",
    "\n",
    "cluster_centers, _ = kmeans(fifa[['scaled_pac', 'scaled_dri', 'scaled_sho']], 3)\n",
    "\n",
    "fifa['cluster_labels'], _ = vq(fifa[['scaled_pac', 'scaled_dri', 'scaled_sho']], cluster_centers)"
   ]
  },
  {
   "cell_type": "code",
   "execution_count": 33,
   "metadata": {},
   "outputs": [
    {
     "name": "stdout",
     "output_type": "stream",
     "text": [
      "cluster_labels\n",
      "0    182\n",
      "1    361\n",
      "2    457\n",
      "Name: ID, dtype: int64\n",
      "cluster_labels\n",
      "0    63225.274725\n",
      "1    62603.878116\n",
      "2    77297.592998\n",
      "Name: eur_wage, dtype: float64\n"
     ]
    }
   ],
   "source": [
    "# Print the size of the clusters\n",
    "print(fifa.groupby('cluster_labels')['ID'].count())\n",
    "\n",
    "# Print the mean value of wages in each cluster\n",
    "print(fifa.groupby('cluster_labels')['eur_wage'].mean())"
   ]
  },
  {
   "cell_type": "markdown",
   "metadata": {},
   "source": [
    "### FIFA 18: what makes a complete player?\n",
    "The overall level of a player in FIFA 18 is defined by six characteristics: pace (```pac```), shooting (```sho```), passing (```pas```), dribbling (```dri```), defending (```def```), physical (```phy```)."
   ]
  },
  {
   "cell_type": "code",
   "execution_count": 36,
   "metadata": {},
   "outputs": [],
   "source": [
    "fifa['scaled_def'] = whiten(fifa['def'])\n",
    "fifa['scaled_phy'] = whiten(fifa['phy'])"
   ]
  },
  {
   "cell_type": "code",
   "execution_count": 39,
   "metadata": {},
   "outputs": [],
   "source": [
    "scaled_features = ['scaled_pac', 'scaled_sho', 'scaled_pac', 'scaled_dri', 'scaled_def', 'scaled_phy']"
   ]
  },
  {
   "cell_type": "code",
   "execution_count": 40,
   "metadata": {},
   "outputs": [
    {
     "name": "stdout",
     "output_type": "stream",
     "text": [
      "                scaled_pac  scaled_sho  scaled_pac  scaled_dri  scaled_def  \\\n",
      "cluster_labels                                                               \n",
      "0                 5.491062    3.998012    5.491062    7.059324    3.858428   \n",
      "1                 6.828114    5.475576    6.828114    8.579753    2.366369   \n",
      "\n",
      "                scaled_phy  \n",
      "cluster_labels              \n",
      "0                 9.109248  \n",
      "1                 8.274933  \n",
      "1 ['Cristiano Ronaldo' 'L. Messi' 'Neymar' 'L. Suárez' 'M. Neuer']\n",
      "0 ['T. Kroos' 'Sergio Ramos' 'G. Chiellini' 'L. Bonucci' 'J. Boateng']\n"
     ]
    },
    {
     "data": {
      "image/png": "[encoded data removed]",
      "text/plain": [
       "<Figure size 432x288 with 1 Axes>"
      ]
     },
     "metadata": {
      "needs_background": "light"
     },
     "output_type": "display_data"
    }
   ],
   "source": [
    "# Create centroids with kmeans for 2 clusters\n",
    "cluster_centers, _ = kmeans(fifa[scaled_features], 2)\n",
    "\n",
    "# Assign cluster labels and print cluster centers\n",
    "fifa['cluster_labels'], _ = vq(fifa[scaled_features], cluster_centers)\n",
    "print(fifa.groupby('cluster_labels')[scaled_features].mean())\n",
    "\n",
    "# Plot cluster centers to visualize clusters\n",
    "fifa.groupby('cluster_labels')[scaled_features].mean().plot(legend=True, kind='bar')\n",
    "\n",
    "# Get the name column of first 5 players in each cluster\n",
    "for cluster in fifa['cluster_labels'].unique():\n",
    "    print(cluster, fifa[fifa['cluster_labels'] == cluster]['name'].values[:5])"
   ]
  }
 ],
 "metadata": {
  "kernelspec": {
   "display_name": "Python 3",
   "language": "python",
   "name": "python3"
  },
  "language_info": {
   "codemirror_mode": {
    "name": "ipython",
    "version": 3
   },
   "file_extension": ".py",
   "mimetype": "text/x-python",
   "name": "python",
   "nbconvert_exporter": "python",
   "pygments_lexer": "ipython3",
   "version": "3.7.6"
  }
 },
 "nbformat": 4,
 "nbformat_minor": 4
}
