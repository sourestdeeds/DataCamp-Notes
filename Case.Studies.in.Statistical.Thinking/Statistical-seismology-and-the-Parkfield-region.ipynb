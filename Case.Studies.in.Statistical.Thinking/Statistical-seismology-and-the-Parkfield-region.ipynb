{
 "cells": [
  {
   "cell_type": "markdown",
   "metadata": {},
   "source": [
    "# Statistical seismology and the Parkfield region\n",
    "> Herein, you'll use your statistical thinking skills to study the frequency and magnitudes of earthquakes. Along the way, you'll learn some basic statistical seismology, including the Gutenberg-Richter law. This exercise exposes two key ideas about data science 1) As a data scientist, you wander into all sorts of domain specific analyses, which is very exciting. You constantly get to learn. 2) You are sometimes faced with limited data, which is also the case for many of these earthquake studies. This is the Summary of lecture \"Case Studies in Statistical Thinking\", via datacamp.\n",
    "\n",
    "- toc: true \n",
    "- badges: true\n",
    "- comments: true\n",
    "- author: Chanseok Kang\n",
    "- categories: [Python, Datacamp, Statistics]\n",
    "- image: "
   ]
  },
  {
   "cell_type": "code",
   "execution_count": 1,
   "metadata": {},
   "outputs": [],
   "source": [
    "import pandas as pd\n",
    "import numpy as np\n",
    "import matplotlib.pyplot as plt\n",
    "import dc_stat_think as dcst\n",
    "\n",
    "plt.rcParams['figure.figsize'] = (10, 5)"
   ]
  },
  {
   "cell_type": "markdown",
   "metadata": {},
   "source": [
    "## Introduction to statistical seismology and the Parkfield experiment\n",
    "- The Gutenberg-Richter Law\n",
    "The magnitudes of earthquakes in a given region over a given time period are exponentially distributed. \n",
    "\n",
    "One parameter, given by $\\bar{m} - m_t$, describes earthquake magnitude\n",
    "- Completeness threshold\n",
    "The magnitude $m_t$, above which all earthquakes in a region can be detected"
   ]
  },
  {
   "cell_type": "markdown",
   "metadata": {},
   "source": [
    "### Parkfield earthquake magnitudes\n",
    "As usual, you will start with EDA and plot the ECDF of the magnitudes of earthquakes detected in the Parkfield region from 1950 to 2016. The magnitudes of all earthquakes in the region from the ANSS ComCat are stored in the Numpy array `mags`.\n",
    "\n",
    "When you do it this time, though, take a shortcut in generating the ECDF. You may recall that putting an asterisk before an argument in a function splits what follows into separate arguments. Since `dcst.ecdf()` returns two values, we can pass them as the x, y positional arguments to `plt.plot()` as `plt.plot(*dcst.ecdf(data_you_want_to_plot))`.\n",
    "\n",
    "You will use this shortcut in this exercise and going forward."
   ]
  },
  {
   "cell_type": "code",
   "execution_count": 2,
   "metadata": {},
   "outputs": [
    {
     "data": {
      "text/html": [
       "<div>\n",
       "<style scoped>\n",
       "    .dataframe tbody tr th:only-of-type {\n",
       "        vertical-align: middle;\n",
       "    }\n",
       "\n",
       "    .dataframe tbody tr th {\n",
       "        vertical-align: top;\n",
       "    }\n",
       "\n",
       "    .dataframe thead th {\n",
       "        text-align: right;\n",
       "    }\n",
       "</style>\n",
       "<table border=\"1\" class=\"dataframe\">\n",
       "  <thead>\n",
       "    <tr style=\"text-align: right;\">\n",
       "      <th></th>\n",
       "      <th>latitude</th>\n",
       "      <th>longitude</th>\n",
       "      <th>depth</th>\n",
       "      <th>mag</th>\n",
       "      <th>magType</th>\n",
       "      <th>nst</th>\n",
       "      <th>gap</th>\n",
       "      <th>dmin</th>\n",
       "      <th>rms</th>\n",
       "      <th>net</th>\n",
       "      <th>...</th>\n",
       "      <th>depthError</th>\n",
       "      <th>magError</th>\n",
       "      <th>magNst</th>\n",
       "      <th>status</th>\n",
       "      <th>locationSource</th>\n",
       "      <th>magSource</th>\n",
       "      <th>loc_name</th>\n",
       "      <th>loc_admin1</th>\n",
       "      <th>loc_admin2</th>\n",
       "      <th>loc_cc</th>\n",
       "    </tr>\n",
       "    <tr>\n",
       "      <th>time</th>\n",
       "      <th></th>\n",
       "      <th></th>\n",
       "      <th></th>\n",
       "      <th></th>\n",
       "      <th></th>\n",
       "      <th></th>\n",
       "      <th></th>\n",
       "      <th></th>\n",
       "      <th></th>\n",
       "      <th></th>\n",
       "      <th></th>\n",
       "      <th></th>\n",
       "      <th></th>\n",
       "      <th></th>\n",
       "      <th></th>\n",
       "      <th></th>\n",
       "      <th></th>\n",
       "      <th></th>\n",
       "      <th></th>\n",
       "      <th></th>\n",
       "      <th></th>\n",
       "    </tr>\n",
       "  </thead>\n",
       "  <tbody>\n",
       "    <tr>\n",
       "      <th>1951-10-03 13:44:33.170</th>\n",
       "      <td>35.869333</td>\n",
       "      <td>-120.451000</td>\n",
       "      <td>6.0</td>\n",
       "      <td>3.67</td>\n",
       "      <td>ml</td>\n",
       "      <td>6.0</td>\n",
       "      <td>259.0</td>\n",
       "      <td>1.5480</td>\n",
       "      <td>0.43</td>\n",
       "      <td>ci</td>\n",
       "      <td>...</td>\n",
       "      <td>31.61</td>\n",
       "      <td>0.154</td>\n",
       "      <td>10.0</td>\n",
       "      <td>reviewed</td>\n",
       "      <td>ci</td>\n",
       "      <td>ci</td>\n",
       "      <td>Shandon</td>\n",
       "      <td>California</td>\n",
       "      <td>San Luis Obispo County</td>\n",
       "      <td>US</td>\n",
       "    </tr>\n",
       "    <tr>\n",
       "      <th>1953-05-28 07:58:34.510</th>\n",
       "      <td>36.004167</td>\n",
       "      <td>-120.501167</td>\n",
       "      <td>6.0</td>\n",
       "      <td>3.61</td>\n",
       "      <td>ml</td>\n",
       "      <td>7.0</td>\n",
       "      <td>296.0</td>\n",
       "      <td>0.9139</td>\n",
       "      <td>0.39</td>\n",
       "      <td>ci</td>\n",
       "      <td>...</td>\n",
       "      <td>31.61</td>\n",
       "      <td>NaN</td>\n",
       "      <td>1.0</td>\n",
       "      <td>reviewed</td>\n",
       "      <td>ci</td>\n",
       "      <td>ci</td>\n",
       "      <td>Coalinga</td>\n",
       "      <td>California</td>\n",
       "      <td>Fresno County</td>\n",
       "      <td>US</td>\n",
       "    </tr>\n",
       "    <tr>\n",
       "      <th>1961-12-14 11:51:15.410</th>\n",
       "      <td>35.970000</td>\n",
       "      <td>-120.470167</td>\n",
       "      <td>6.0</td>\n",
       "      <td>3.95</td>\n",
       "      <td>ml</td>\n",
       "      <td>12.0</td>\n",
       "      <td>297.0</td>\n",
       "      <td>0.8718</td>\n",
       "      <td>0.51</td>\n",
       "      <td>ci</td>\n",
       "      <td>...</td>\n",
       "      <td>31.61</td>\n",
       "      <td>0.070</td>\n",
       "      <td>11.0</td>\n",
       "      <td>reviewed</td>\n",
       "      <td>ci</td>\n",
       "      <td>ci</td>\n",
       "      <td>Coalinga</td>\n",
       "      <td>California</td>\n",
       "      <td>Fresno County</td>\n",
       "      <td>US</td>\n",
       "    </tr>\n",
       "    <tr>\n",
       "      <th>1965-02-21 18:39:24.500</th>\n",
       "      <td>35.881000</td>\n",
       "      <td>-120.383500</td>\n",
       "      <td>6.0</td>\n",
       "      <td>3.54</td>\n",
       "      <td>ml</td>\n",
       "      <td>10.0</td>\n",
       "      <td>257.0</td>\n",
       "      <td>1.5380</td>\n",
       "      <td>0.56</td>\n",
       "      <td>ci</td>\n",
       "      <td>...</td>\n",
       "      <td>31.61</td>\n",
       "      <td>0.048</td>\n",
       "      <td>11.0</td>\n",
       "      <td>reviewed</td>\n",
       "      <td>ci</td>\n",
       "      <td>ci</td>\n",
       "      <td>Shandon</td>\n",
       "      <td>California</td>\n",
       "      <td>San Luis Obispo County</td>\n",
       "      <td>US</td>\n",
       "    </tr>\n",
       "    <tr>\n",
       "      <th>1966-06-28 04:18:36.180</th>\n",
       "      <td>35.856500</td>\n",
       "      <td>-120.446167</td>\n",
       "      <td>6.0</td>\n",
       "      <td>3.15</td>\n",
       "      <td>ml</td>\n",
       "      <td>7.0</td>\n",
       "      <td>259.0</td>\n",
       "      <td>1.3120</td>\n",
       "      <td>0.32</td>\n",
       "      <td>ci</td>\n",
       "      <td>...</td>\n",
       "      <td>31.61</td>\n",
       "      <td>0.105</td>\n",
       "      <td>7.0</td>\n",
       "      <td>reviewed</td>\n",
       "      <td>ci</td>\n",
       "      <td>ci</td>\n",
       "      <td>Shandon</td>\n",
       "      <td>California</td>\n",
       "      <td>San Luis Obispo County</td>\n",
       "      <td>US</td>\n",
       "    </tr>\n",
       "  </tbody>\n",
       "</table>\n",
       "<p>5 rows × 25 columns</p>\n",
       "</div>"
      ],
      "text/plain": [
       "                          latitude   longitude  depth   mag magType   nst  \\\n",
       "time                                                                        \n",
       "1951-10-03 13:44:33.170  35.869333 -120.451000    6.0  3.67      ml   6.0   \n",
       "1953-05-28 07:58:34.510  36.004167 -120.501167    6.0  3.61      ml   7.0   \n",
       "1961-12-14 11:51:15.410  35.970000 -120.470167    6.0  3.95      ml  12.0   \n",
       "1965-02-21 18:39:24.500  35.881000 -120.383500    6.0  3.54      ml  10.0   \n",
       "1966-06-28 04:18:36.180  35.856500 -120.446167    6.0  3.15      ml   7.0   \n",
       "\n",
       "                           gap    dmin   rms net  ... depthError magError  \\\n",
       "time                                              ...                       \n",
       "1951-10-03 13:44:33.170  259.0  1.5480  0.43  ci  ...      31.61    0.154   \n",
       "1953-05-28 07:58:34.510  296.0  0.9139  0.39  ci  ...      31.61      NaN   \n",
       "1961-12-14 11:51:15.410  297.0  0.8718  0.51  ci  ...      31.61    0.070   \n",
       "1965-02-21 18:39:24.500  257.0  1.5380  0.56  ci  ...      31.61    0.048   \n",
       "1966-06-28 04:18:36.180  259.0  1.3120  0.32  ci  ...      31.61    0.105   \n",
       "\n",
       "                        magNst    status  locationSource  magSource  loc_name  \\\n",
       "time                                                                            \n",
       "1951-10-03 13:44:33.170   10.0  reviewed              ci         ci   Shandon   \n",
       "1953-05-28 07:58:34.510    1.0  reviewed              ci         ci  Coalinga   \n",
       "1961-12-14 11:51:15.410   11.0  reviewed              ci         ci  Coalinga   \n",
       "1965-02-21 18:39:24.500   11.0  reviewed              ci         ci   Shandon   \n",
       "1966-06-28 04:18:36.180    7.0  reviewed              ci         ci   Shandon   \n",
       "\n",
       "                         loc_admin1              loc_admin2 loc_cc  \n",
       "time                                                                \n",
       "1951-10-03 13:44:33.170  California  San Luis Obispo County     US  \n",
       "1953-05-28 07:58:34.510  California           Fresno County     US  \n",
       "1961-12-14 11:51:15.410  California           Fresno County     US  \n",
       "1965-02-21 18:39:24.500  California  San Luis Obispo County     US  \n",
       "1966-06-28 04:18:36.180  California  San Luis Obispo County     US  \n",
       "\n",
       "[5 rows x 25 columns]"
      ]
     },
     "execution_count": 2,
     "metadata": {},
     "output_type": "execute_result"
    }
   ],
   "source": [
    "df = pd.read_csv('./dataset/parkfield_earthquakes_1950-2017.csv', skiprows=2, index_col=0, parse_dates=True)\n",
    "df.head()"
   ]
  },
  {
   "cell_type": "code",
   "execution_count": 3,
   "metadata": {},
   "outputs": [],
   "source": [
    "mags = df['mag'].to_numpy()"
   ]
  },
  {
   "cell_type": "code",
   "execution_count": 4,
   "metadata": {},
   "outputs": [
    {
     "data": {
      "image/png": "[encoded data removed]",
      "text/plain": [
       "<Figure size 720x360 with 1 Axes>"
      ]
     },
     "metadata": {
      "needs_background": "light"
     },
     "output_type": "display_data"
    }
   ],
   "source": [
    "# Make the plot\n",
    "_ = plt.plot(*dcst.ecdf(mags), marker='.', linestyle='none')\n",
    "\n",
    "# Label axes\n",
    "_ = plt.xlabel('magnitude')\n",
    "_ = plt.ylabel('ECDF')"
   ]
  },
  {
   "cell_type": "markdown",
   "metadata": {},
   "source": [
    "Note the distinctive roll-off at magnitudes below 1.0."
   ]
  },
  {
   "cell_type": "markdown",
   "metadata": {},
   "source": [
    "### Computing the b-value\n",
    "The b-value is a common metric for the seismicity of a region. You can imagine you would like to calculate it often when working with earthquake data. For tasks like this that you will do often, it is best to write a function! So, write a function with signature `b_value(mags, mt, perc=[2.5, 97.5], n_reps=None)` that returns the b-value and (optionally, if `n_reps` is not None) its confidence interval for a set of magnitudes, `mags`. The completeness threshold is given by `mt`. The perc keyword argument gives the percentiles for the lower and upper bounds of the confidence interval, and `n_reps` is the number of bootstrap replicates to use in computing the confidence interval."
   ]
  },
  {
   "cell_type": "code",
   "execution_count": 5,
   "metadata": {},
   "outputs": [],
   "source": [
    "def b_value(mags, mt, perc=[2.5, 97.5], n_reps=None):\n",
    "    \"\"\"Compute the b-value and optionally its confidence interval.\"\"\"\n",
    "    # Extract magnitudes above completeness threshold: m\n",
    "    m = mags[mags >= mt]\n",
    "    \n",
    "    # Compute b-value: b\n",
    "    b = (np.mean(m) - mt) * np.log(10)\n",
    "    \n",
    "    # Draw bootstrap replicates\n",
    "    if n_reps is None:\n",
    "        return b\n",
    "    else:\n",
    "        m_bs_reps = dcst.draw_bs_reps(m, np.mean, n_reps)\n",
    "        \n",
    "        # Compute b-value from replicates: b_bs_reps\n",
    "        b_bs_reps = (m_bs_reps - mt) * np.log(10)\n",
    "        \n",
    "        # Compute confidence interval: conf_int\n",
    "        conf_int = np.percentile(b_bs_reps, perc)\n",
    "        \n",
    "        return b, conf_int"
   ]
  },
  {
   "cell_type": "markdown",
   "metadata": {},
   "source": [
    "### The b-value for Parkfield\n",
    "The ECDF is effective at exposing roll-off, as you could see below magnitude 1. Because there are plenty of earthquakes above magnitude 3, you can use mt = 3 as your completeness threshold. With this completeness threshold, compute the b-value for the Parkfield region from 1950 to 2016, along with the 95% confidence interval. Print the results to the screen. The variable mags with all the magnitudes is in your namespace.\n",
    "\n",
    "Overlay the theoretical Exponential CDF to verify that the Parkfield region follows the Gutenberg-Richter Law."
   ]
  },
  {
   "cell_type": "code",
   "execution_count": 6,
   "metadata": {},
   "outputs": [
    {
     "name": "stdout",
     "output_type": "stream",
     "text": [
      "\n",
      "b-value: 1.08\n",
      "95% conf int: [0.94, 1.24]\n"
     ]
    },
    {
     "data": {
      "image/png": "[encoded data removed]",
      "text/plain": [
       "<Figure size 720x360 with 1 Axes>"
      ]
     },
     "metadata": {
      "needs_background": "light"
     },
     "output_type": "display_data"
    }
   ],
   "source": [
    "mt = 3\n",
    "# Compute b-value and 95% confidence interval\n",
    "b, conf_int = b_value(mags, mt=3, perc=[2.5, 97.5], n_reps=10000)\n",
    "\n",
    "# Generate samples to for theoretical ECDF\n",
    "m_theor = np.random.exponential(b / np.log(10), size=100000) + mt\n",
    "\n",
    "# Plot the theoretical CDF\n",
    "_ = plt.plot(*dcst.ecdf(m_theor))\n",
    "\n",
    "# Plot the ECDF (slicing mags >= mt)\n",
    "_ = plt.plot(*dcst.ecdf(mags[mags >= mt]), marker='.', linestyle='none')\n",
    "\n",
    "# Pretty up and show the plot\n",
    "_ = plt.xlabel('magnitude')\n",
    "_ = plt.ylabel('ECDF')\n",
    "_ = plt.xlim(2.8, 6.2)\n",
    "\n",
    "# Report the results\n",
    "print(\"\"\"\n",
    "b-value: {0:.2f}\n",
    "95% conf int: [{1:.2f}, {2:.2f}]\"\"\".format(b, *conf_int))"
   ]
  },
  {
   "cell_type": "markdown",
   "metadata": {},
   "source": [
    "## Timing of major earthquakes and the Parkfield sequence\n",
    "- Models for earthquake timing\n",
    "    - Exponential: Earthquakes happen like a Poisson process\n",
    "    - Gaussian: Earthquakes happen with a well-defined period"
   ]
  },
  {
   "cell_type": "markdown",
   "metadata": {},
   "source": [
    "### Interearthquake time estimates for Parkfield\n",
    "In this exercise, you will first compute the best estimates for the parameters for the Exponential and Gaussian models for interearthquake times. You will then plot the theoretical CDFs for the respective models along with the formal ECDF of the actual Parkfield interearthquake times.\n",
    "\n"
   ]
  },
  {
   "cell_type": "code",
   "execution_count": 7,
   "metadata": {},
   "outputs": [],
   "source": [
    "time_gap = np.array([24.06570842, 20.07665982, 21.01848049, 12.24640657, 32.05475702,\n",
    "       38.2532512 ])"
   ]
  },
  {
   "cell_type": "code",
   "execution_count": 8,
   "metadata": {},
   "outputs": [
    {
     "data": {
      "image/png": "[encoded data removed]",
      "text/plain": [
       "<Figure size 720x360 with 1 Axes>"
      ]
     },
     "metadata": {
      "needs_background": "light"
     },
     "output_type": "display_data"
    }
   ],
   "source": [
    "# Compute the mean time gap: mean_time_gap\n",
    "mean_time_gap = np.mean(time_gap)\n",
    "\n",
    "# Standard deviation of the time gap: std_time_gap\n",
    "std_time_gap = np.std(time_gap)\n",
    "\n",
    "# Generate theoretical Exponential distribution of timings: time_gap_exp\n",
    "time_gap_exp = np.random.exponential(mean_time_gap, size=10000)\n",
    "\n",
    "# Generate theoretical Normal distribution of timings: time_gap_norm\n",
    "time_gap_norm = np.random.normal(loc=mean_time_gap, scale=std_time_gap, size=10000)\n",
    "\n",
    "# Plot theoretical CDFs\n",
    "_ = plt.plot(*dcst.ecdf(time_gap_exp))\n",
    "_ = plt.plot(*dcst.ecdf(time_gap_norm))\n",
    "\n",
    "# Plot Parkfield ECDF\n",
    "_ = plt.plot(*dcst.ecdf(time_gap, formal=True, min_x=-10, max_x=50))\n",
    "\n",
    "# Add legend\n",
    "_ = plt.legend(('Exp.', 'Norm.'), loc='upper left')\n",
    "\n",
    "# Label axes, set limits and show plot\n",
    "_ = plt.xlabel('time gap (years)')\n",
    "_ = plt.ylabel('ECDF')\n",
    "_ = plt.xlim(-10, 50)"
   ]
  },
  {
   "cell_type": "markdown",
   "metadata": {},
   "source": [
    "By eye, the Gaussian model seems to describe the observed data best. We will investigate the consequences of this in the next exercise, and see if we can reject the Exponential model in coming exercises."
   ]
  },
  {
   "cell_type": "markdown",
   "metadata": {},
   "source": [
    "### When will the next big Parkfield quake be?\n",
    "The last big earthquake in the Parkfield region was on the evening of September 27, 2004 local time. Your task is to get an estimate as to when the next Parkfield quake will be, assuming the Exponential model and also the Gaussian model. In both cases, the best estimate is given by the mean time gap, which you computed in the last exercise to be 24.62 years, meaning that the next earthquake would be in 2029. Compute 95% confidence intervals on when the next earthquake will be assuming an Exponential distribution parametrized by `mean_time_gap` you computed in the last exercise. Do the same assuming a Normal distribution parametrized by `mean_time_gap` and `std_time_gap`.\n"
   ]
  },
  {
   "cell_type": "code",
   "execution_count": 9,
   "metadata": {},
   "outputs": [],
   "source": [
    "today = 2020.4788213099084\n",
    "last_quake = 2004.74"
   ]
  },
  {
   "cell_type": "code",
   "execution_count": 10,
   "metadata": {},
   "outputs": [
    {
     "name": "stdout",
     "output_type": "stream",
     "text": [
      "Exponential: [2021.11683874 2037.46117436 2111.12344479]\n",
      "     Normal: [2021.22866019 2030.86309017 2046.45777655]\n"
     ]
    }
   ],
   "source": [
    "# Draw samples from the Exponential distribution: exp_samples\n",
    "exp_samples = np.random.exponential(mean_time_gap, size=100000)\n",
    "\n",
    "# Draw samples from the Normal distribution: norm_samples\n",
    "norm_samples = np.random.normal(loc=mean_time_gap, scale=std_time_gap, size=100000)\n",
    "\n",
    "# No earthquake as of today, so only keep samples that are long enough\n",
    "exp_samples = exp_samples[exp_samples > today - last_quake]\n",
    "norm_samples = norm_samples[norm_samples > today - last_quake]\n",
    "\n",
    "# Compute the confidence intervals with medians\n",
    "conf_int_exp = np.percentile(exp_samples, [2.5, 50, 97.5]) + last_quake\n",
    "conf_int_norm = np.percentile(norm_samples, [2.5, 50, 97.5]) + last_quake\n",
    "\n",
    "# Print the results\n",
    "print('Exponential:', conf_int_exp)\n",
    "print('     Normal:', conf_int_norm)"
   ]
  },
  {
   "cell_type": "markdown",
   "metadata": {},
   "source": [
    "The models given decidedly different predictions. The Gaussian model says the next earthquake is almost sure to be in the next few decades, but the Exponential model says we may very well have to wait longer."
   ]
  },
  {
   "cell_type": "markdown",
   "metadata": {},
   "source": [
    "## How are the Parkfield interearthquake times distributed?\n",
    "- Hypothesis test on the Nankai megathrust earthquakes\n",
    "    - Hypothesis: The time between Nankai Trough earthquakes is normally distributed with a mean and standard deviation as calculated from the data\n",
    "    - Test Statistic: ??\n",
    "    - At least as extreme as: ??\n",
    "- Kolmogorov-Smirnov test (or K-S test)\n",
    "    - Hypothesis: same as above\n",
    "    - Test statistic: Kolmogorov-Smirnov statistic\n",
    "    - At least as extreme as: $\\geq$ observed K-S statistic\n",
    "- Simulating the null hypothesis\n",
    "    - Draw lots of samples out of the theoretical distribution and store them\n",
    "        - Draw n samples out of the theoretical distribution\n",
    "        - Compute the K-S statistic from the samples"
   ]
  },
  {
   "cell_type": "markdown",
   "metadata": {},
   "source": [
    "### Computing the K-S statistic\n",
    "Write a function to compute the Kolmogorov-Smirnov statistic from two datasets, `data1` and `data2`, in which `data2` consists of samples from the theoretical distribution you are comparing your data to. Note that this means we are using hacker stats to compute the K-S statistic for a dataset and a theoretical distribution, not the K-S statistic for two empirical datasets."
   ]
  },
  {
   "cell_type": "code",
   "execution_count": 11,
   "metadata": {},
   "outputs": [],
   "source": [
    "def ks_stat(data1, data2):\n",
    "    # Compute ECDF from data: x, y\n",
    "    x, y = dcst.ecdf(data1)\n",
    "    \n",
    "    # Compute corresponding values of the target CDF\n",
    "    cdf = dcst.ecdf_formal(x, data2)\n",
    "    \n",
    "    # Compute distances between concave corners and CDF\n",
    "    D_top =  y - cdf\n",
    "    \n",
    "    # Compute distance between convex corners and CDF\n",
    "    D_bottom = cdf - y + 1 / len(data1)\n",
    "    \n",
    "    return np.max((D_top, D_bottom))"
   ]
  },
  {
   "cell_type": "markdown",
   "metadata": {},
   "source": [
    "### Drawing K-S replicates\n",
    "Now, you need a function to draw Kolmogorov-Smirnov replicates out of a target distribution, f. Construct a function with signature `draw_ks_reps(n, f, args=(), size=10000, n_reps=10000)` to do so. Here, `n` is the number of data points, and `f` is the function you will use to generate samples from the target CDF. For example, to test against an Exponential distribution, you would pass `np.random.exponential` as `f`. This function usually takes arguments, which must be passed as a tuple. So, if you wanted to take samples from an Exponential distribution with mean `x_mean`, you would use the `args=(x_mean,)` keyword. The keyword arguments `size` and `n_reps` respectively represent the number of samples to take from the target distribution and the number of replicates to draw."
   ]
  },
  {
   "cell_type": "code",
   "execution_count": 12,
   "metadata": {},
   "outputs": [],
   "source": [
    "def draw_ks_reps(n, f, args=(), size=10000, n_reps=10000):\n",
    "    # Generate samples from target distribution\n",
    "    x_f = f(*args, size=size)\n",
    "    \n",
    "    # Initialize K-S replicates\n",
    "    reps = np.empty(shape=n_reps)\n",
    "    \n",
    "    # Draw replicates\n",
    "    for i in range(n_reps):\n",
    "        # Draw samples for comparison\n",
    "        x_samp = f(*args, size=n)\n",
    "        \n",
    "        # Compute K-S statistic\n",
    "        reps[i] = dcst.ks_stat(x_f, x_samp)\n",
    "        \n",
    "    return reps"
   ]
  },
  {
   "cell_type": "markdown",
   "metadata": {},
   "source": [
    "This will allow you to draw K-S replicates for use in K-S tests for arbitrary continuous distributions. You'll put it to use in the next exercise."
   ]
  },
  {
   "cell_type": "markdown",
   "metadata": {},
   "source": [
    "### The K-S test for Exponentiality\n",
    "Test the null hypothesis that the interearthquake times of the Parkfield sequence are Exponentially distributed. That is, earthquakes happen at random with no memory of when the last one was. Note: This calculation is computationally intensive (you will draw more than 108 random numbers), so it will take about 10 seconds to complete.\n",
    "\n"
   ]
  },
  {
   "cell_type": "code",
   "execution_count": 13,
   "metadata": {},
   "outputs": [
    {
     "name": "stdout",
     "output_type": "stream",
     "text": [
      "p = 0.2672\n"
     ]
    }
   ],
   "source": [
    "# Draw target distribution: x_f\n",
    "x_f = np.random.exponential(scale=mean_time_gap, size=10000)\n",
    "\n",
    "# Compute K-S stat: d\n",
    "d = dcst.ks_stat(time_gap, x_f)\n",
    "\n",
    "# Draw K-S replicates: reps\n",
    "reps = dcst.draw_ks_reps(len(time_gap), np.random.exponential, \n",
    "                         args=(mean_time_gap,), size=10000, n_reps=10000)\n",
    "\n",
    "# Compute and print p-value\n",
    "p_val = np.sum(reps >= d) / 10000\n",
    "print('p =', p_val)"
   ]
  },
  {
   "cell_type": "markdown",
   "metadata": {},
   "source": [
    "That's a p-value above 0.2. This means that the Parkfield sequence is not outside the realm of possibility if earthquakes there are a Poisson process. This does not mean that they are generated by a Poisson process, but that the observed sequence is not incongruous with that model. The upshot is that it is really hard to say when the next Parkfield quake will be."
   ]
  }
 ],
 "metadata": {
  "kernelspec": {
   "display_name": "Python 3",
   "language": "python",
   "name": "python3"
  },
  "language_info": {
   "codemirror_mode": {
    "name": "ipython",
    "version": 3
   },
   "file_extension": ".py",
   "mimetype": "text/x-python",
   "name": "python",
   "nbconvert_exporter": "python",
   "pygments_lexer": "ipython3",
   "version": "3.7.6"
  }
 },
 "nbformat": 4,
 "nbformat_minor": 4
}
