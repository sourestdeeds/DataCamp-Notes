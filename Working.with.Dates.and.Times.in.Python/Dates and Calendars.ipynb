{
 "cells": [
  {
   "cell_type": "markdown",
   "metadata": {},
   "source": [
    "## Dates in Python"
   ]
  },
  {
   "cell_type": "markdown",
   "metadata": {},
   "source": [
    "### Which day of the week?"
   ]
  },
  {
   "cell_type": "code",
   "execution_count": 1,
   "metadata": {},
   "outputs": [
    {
     "name": "stdout",
     "output_type": "stream",
     "text": [
      "0\n"
     ]
    }
   ],
   "source": [
    "# Import date from datetime\n",
    "from datetime import date\n",
    "\n",
    "# Create a date object\n",
    "hurricane_andrew = date(1992, 8, 24)\n",
    "\n",
    "# Which day of the week is the date\n",
    "print(hurricane_andrew.weekday())"
   ]
  },
  {
   "cell_type": "markdown",
   "metadata": {},
   "source": [
    "### How many hurricanes come early?"
   ]
  },
  {
   "cell_type": "code",
   "execution_count": 2,
   "metadata": {},
   "outputs": [],
   "source": [
    "import pandas as pd\n",
    "\n",
    "florida_hurricane_dates = pd.read_pickle('./dataset/florida_hurricane_dates.pkl')"
   ]
  },
  {
   "cell_type": "code",
   "execution_count": 3,
   "metadata": {},
   "outputs": [
    {
     "name": "stdout",
     "output_type": "stream",
     "text": [
      "10\n"
     ]
    }
   ],
   "source": [
    "# Counter for how many before June 1\n",
    "early_hurricanes = 0\n",
    "\n",
    "# We loop over the dates\n",
    "for hurricane in florida_hurricane_dates:\n",
    "    # Check if the month is before June (month number 6)\n",
    "    if hurricane.month < 6:\n",
    "        early_hurricanes = early_hurricanes + 1\n",
    "\n",
    "print(early_hurricanes)"
   ]
  },
  {
   "cell_type": "markdown",
   "metadata": {},
   "source": [
    "## Math with dates"
   ]
  },
  {
   "cell_type": "markdown",
   "metadata": {},
   "source": [
    "### Subtracting dates"
   ]
  },
  {
   "cell_type": "code",
   "execution_count": 5,
   "metadata": {},
   "outputs": [
    {
     "name": "stdout",
     "output_type": "stream",
     "text": [
      "218\n"
     ]
    }
   ],
   "source": [
    "# Create a date object for May 9th, 2007\n",
    "start = date(2007, 5, 9)\n",
    "\n",
    "# Create a date object for December 13th, 2007\n",
    "end = date(2007, 12, 13)\n",
    "\n",
    "# Subtract the two dates and print the number of days\n",
    "print((end - start).days)"
   ]
  },
  {
   "cell_type": "markdown",
   "metadata": {},
   "source": [
    "### Counting events per calendar month"
   ]
  },
  {
   "cell_type": "code",
   "execution_count": 6,
   "metadata": {},
   "outputs": [
    {
     "name": "stdout",
     "output_type": "stream",
     "text": [
      "{1: 0, 2: 1, 3: 0, 4: 1, 5: 8, 6: 32, 7: 21, 8: 49, 9: 70, 10: 43, 11: 9, 12: 1}\n"
     ]
    }
   ],
   "source": [
    "# A dictionary to count hurricanes per calendar month\n",
    "hurricanes_each_month = {1: 0, 2: 0, 3: 0, 4: 0, 5: 0, 6:0,\n",
    "                         7: 0, 8:0, 9:0, 10:0, 11:0, 12:0}\n",
    "\n",
    "# Loop over all hurricanes\n",
    "for hurricane in florida_hurricane_dates:\n",
    "    # Pull out the month\n",
    "    month = hurricane.month\n",
    "    # Increment the count in your dictionary by one\n",
    "    hurricanes_each_month[month] += 1\n",
    "    \n",
    "print(hurricanes_each_month)"
   ]
  },
  {
   "cell_type": "markdown",
   "metadata": {},
   "source": [
    "### Putting a list of dates in order"
   ]
  },
  {
   "cell_type": "code",
   "execution_count": 13,
   "metadata": {},
   "outputs": [],
   "source": [
    "import random\n",
    "\n",
    "random.seed(0)\n",
    "\n",
    "random.shuffle(florida_hurricane_dates)\n",
    "\n",
    "dates_scrambled = florida_hurricane_dates.copy()"
   ]
  },
  {
   "cell_type": "code",
   "execution_count": 15,
   "metadata": {},
   "outputs": [
    {
     "name": "stdout",
     "output_type": "stream",
     "text": [
      "2007-06-02\n",
      "2010-09-29\n",
      "1950-08-31\n",
      "2017-10-29\n"
     ]
    }
   ],
   "source": [
    "# Print the first and last scrambled dates\n",
    "print(dates_scrambled[0])\n",
    "print(dates_scrambled[-1])\n",
    "\n",
    "# Put the dates in order\n",
    "dates_ordered = sorted(dates_scrambled)\n",
    "\n",
    "# Print the first and last ordered dates\n",
    "print(dates_ordered[0])\n",
    "print(dates_ordered[-1])"
   ]
  },
  {
   "cell_type": "markdown",
   "metadata": {},
   "source": [
    "## Turning dates into strings"
   ]
  },
  {
   "cell_type": "markdown",
   "metadata": {},
   "source": [
    "### Printing dates in a friendly format"
   ]
  },
  {
   "cell_type": "code",
   "execution_count": 16,
   "metadata": {},
   "outputs": [
    {
     "name": "stdout",
     "output_type": "stream",
     "text": [
      "ISO: Our earliest hurricane date: 1950-08-31\n",
      "US: Our earliest hurricane date: 08/31/1950\n"
     ]
    }
   ],
   "source": [
    "# Assign the earliest date to first_date\n",
    "first_date = min(florida_hurricane_dates)\n",
    "\n",
    "# Convert to ISO and US formats\n",
    "iso = 'Our earliest hurricane date: ' + first_date.isoformat()\n",
    "us = 'Our earliest hurricane date: ' + first_date.strftime('%m/%d/%Y')\n",
    "\n",
    "print('ISO: '+ iso)\n",
    "print('US: '+ us)"
   ]
  },
  {
   "cell_type": "markdown",
   "metadata": {},
   "source": [
    "### Representing dates in different ways"
   ]
  },
  {
   "cell_type": "code",
   "execution_count": 22,
   "metadata": {},
   "outputs": [
    {
     "name": "stdout",
     "output_type": "stream",
     "text": [
      "1992-08\n",
      "August (1992)\n",
      "1992-239\n"
     ]
    }
   ],
   "source": [
    "# Create a date object\n",
    "andrew = date(1992, 8, 26)\n",
    "\n",
    "# Print the date in the format 'YYYY-MM'\n",
    "print(andrew.strftime('%Y-%m'))\n",
    "\n",
    "# Print the date in the format 'MONTH (YYYY)'\n",
    "print(andrew.strftime('%B (%Y)'))\n",
    "\n",
    "# Print the date in the format 'YYYY-DDD'\n",
    "print(andrew.strftime('%Y-%3j'))"
   ]
  }
 ],
 "metadata": {
  "kernelspec": {
   "display_name": "Python 3",
   "language": "python",
   "name": "python3"
  },
  "language_info": {
   "codemirror_mode": {
    "name": "ipython",
    "version": 3
   },
   "file_extension": ".py",
   "mimetype": "text/x-python",
   "name": "python",
   "nbconvert_exporter": "python",
   "pygments_lexer": "ipython3",
   "version": "3.7.4"
  }
 },
 "nbformat": 4,
 "nbformat_minor": 2
}
